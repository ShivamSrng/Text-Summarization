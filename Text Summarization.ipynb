{
 "cells": [
  {
   "cell_type": "markdown",
   "id": "c6e304c1",
   "metadata": {},
   "source": [
    "# EXTRACTIVE TEXT SUMMARIZATION"
   ]
  },
  {
   "cell_type": "code",
   "execution_count": 1,
   "id": "890577d1",
   "metadata": {},
   "outputs": [],
   "source": [
    "import numpy as np\n",
    "import pandas as pd\n",
    "import warnings\n",
    "warnings.filterwarnings('ignore')"
   ]
  },
  {
   "cell_type": "markdown",
   "id": "8534e7bd",
   "metadata": {},
   "source": [
    "# 1. Importing The Provided CSV File"
   ]
  },
  {
   "cell_type": "code",
   "execution_count": 2,
   "id": "64e3b875",
   "metadata": {},
   "outputs": [
    {
     "data": {
      "text/html": [
       "<div>\n",
       "<style scoped>\n",
       "    .dataframe tbody tr th:only-of-type {\n",
       "        vertical-align: middle;\n",
       "    }\n",
       "\n",
       "    .dataframe tbody tr th {\n",
       "        vertical-align: top;\n",
       "    }\n",
       "\n",
       "    .dataframe thead th {\n",
       "        text-align: right;\n",
       "    }\n",
       "</style>\n",
       "<table border=\"1\" class=\"dataframe\">\n",
       "  <thead>\n",
       "    <tr style=\"text-align: right;\">\n",
       "      <th></th>\n",
       "      <th>title</th>\n",
       "      <th>content</th>\n",
       "      <th>published_at</th>\n",
       "      <th>source</th>\n",
       "      <th>topic</th>\n",
       "    </tr>\n",
       "  </thead>\n",
       "  <tbody>\n",
       "    <tr>\n",
       "      <th>0</th>\n",
       "      <td>BTS: RM is reminded of Bon Voyage as he travel...</td>\n",
       "      <td>After reaching his hotel in the city, RM revea...</td>\n",
       "      <td>2022-07-30T07:00:00Z</td>\n",
       "      <td>2</td>\n",
       "      <td>13</td>\n",
       "    </tr>\n",
       "    <tr>\n",
       "      <th>1</th>\n",
       "      <td>RM recalls wondering if he 'made right decisio...</td>\n",
       "      <td>RM aka Kim Namjoon was the first member to joi...</td>\n",
       "      <td>2022-12-22T15:57:55Z</td>\n",
       "      <td>2</td>\n",
       "      <td>13</td>\n",
       "    </tr>\n",
       "    <tr>\n",
       "      <th>2</th>\n",
       "      <td>BTS: J-Hope and RM go bonkers at Billie Eilish...</td>\n",
       "      <td>Billie Eilish's concert was held in Seoul, Sou...</td>\n",
       "      <td>2022-08-16T07:00:00Z</td>\n",
       "      <td>1</td>\n",
       "      <td>7</td>\n",
       "    </tr>\n",
       "    <tr>\n",
       "      <th>3</th>\n",
       "      <td>BTS: J-Hope proudly states he raised Jungkook,...</td>\n",
       "      <td>BTS ARMY y'all would be missing the members a ...</td>\n",
       "      <td>2022-12-18T13:08:40Z</td>\n",
       "      <td>1</td>\n",
       "      <td>7</td>\n",
       "    </tr>\n",
       "    <tr>\n",
       "      <th>4</th>\n",
       "      <td>BTS: Jin aka Kim Seokjin takes us through the ...</td>\n",
       "      <td>BTS member Kim Seokjin aka Jin has the capacit...</td>\n",
       "      <td>2022-11-21T08:00:00Z</td>\n",
       "      <td>1</td>\n",
       "      <td>8</td>\n",
       "    </tr>\n",
       "  </tbody>\n",
       "</table>\n",
       "</div>"
      ],
      "text/plain": [
       "                                               title  \\\n",
       "0  BTS: RM is reminded of Bon Voyage as he travel...   \n",
       "1  RM recalls wondering if he 'made right decisio...   \n",
       "2  BTS: J-Hope and RM go bonkers at Billie Eilish...   \n",
       "3  BTS: J-Hope proudly states he raised Jungkook,...   \n",
       "4  BTS: Jin aka Kim Seokjin takes us through the ...   \n",
       "\n",
       "                                             content          published_at  \\\n",
       "0  After reaching his hotel in the city, RM revea...  2022-07-30T07:00:00Z   \n",
       "1  RM aka Kim Namjoon was the first member to joi...  2022-12-22T15:57:55Z   \n",
       "2  Billie Eilish's concert was held in Seoul, Sou...  2022-08-16T07:00:00Z   \n",
       "3  BTS ARMY y'all would be missing the members a ...  2022-12-18T13:08:40Z   \n",
       "4  BTS member Kim Seokjin aka Jin has the capacit...  2022-11-21T08:00:00Z   \n",
       "\n",
       "   source  topic  \n",
       "0       2     13  \n",
       "1       2     13  \n",
       "2       1      7  \n",
       "3       1      7  \n",
       "4       1      8  "
      ]
     },
     "execution_count": 2,
     "metadata": {},
     "output_type": "execute_result"
    }
   ],
   "source": [
    "df1 = pd.read_csv(\"./news.csv\")\n",
    "df1.head()"
   ]
  },
  {
   "cell_type": "markdown",
   "id": "8496ac87",
   "metadata": {},
   "source": [
    "# 2. Discovering The Irregularities In The Data"
   ]
  },
  {
   "cell_type": "code",
   "execution_count": 3,
   "id": "9f5a2f3f",
   "metadata": {},
   "outputs": [
    {
     "data": {
      "text/plain": [
       "(810, 5)"
      ]
     },
     "execution_count": 3,
     "metadata": {},
     "output_type": "execute_result"
    }
   ],
   "source": [
    "df1.shape"
   ]
  },
  {
   "cell_type": "markdown",
   "id": "2f3a61d2",
   "metadata": {},
   "source": [
    "## 2.1 Randomly selectingout the row, to see what are the things that needs to be pre-processed"
   ]
  },
  {
   "cell_type": "code",
   "execution_count": 4,
   "id": "60d5a2c2",
   "metadata": {},
   "outputs": [
    {
     "data": {
      "text/plain": [
       "'BTS consists of members Jin, Suga, J-Hope, RM, Jimin, V, and Jungkook&mdash;co-writes and co-produces much of their own material. Originally a hip hop group, their musical style has evolved to incorporate a wide range of genres; their lyrics have often discussed mental health, the troubles of school-age youth and coming of age, loss, the journey towards self-love, and individualism. Their work also frequently references literature, philosophy and psychological concepts, and includes an alternate universe storyline.\\n\\nBTS in the beginning:\\n\\nAfter launching in 2013 with their single album 2 Cool 4 Skool, BTS respectively released their first Korean-language studio album, Dark &amp; Wild, and Japanese-language studio album, Wake Up, in 2014. The group&#39;s second Korean studio album, Wings (2016), was their first to sell one million copies in South Korea. By 2017, BTS had crossed into the global music market, leading the Korean wave into the United States and breaking several sales records. They became the first Korean ensemble to receive a Gold certification from the Recording Industry Association of America (RIAA) for their single Mic Drop, as well as the first act from South Korea to top the Billboard 200 with their studio album Love Yourself: Tear (2018).&nbsp;\\n\\nBTS&#39; achievements:&nbsp;\\n\\nBTS became one of the few groups since the Beatles in 1966&ndash;1968 with four US number-one albums in less than two years, and Love Yourself: Answer (2018) was the first Korean album certified Platinum by the RIAA. In 2020, BTS became the first all-South Korean act to reach number one on the Billboard Hot 100 and Billboard Global 200 with their Grammy-nominated single Dynamite. Their follow-up releases Savage Love, Life Goes On, Butter, and Permission to Dance made them the quickest act to earn four US number-one singles since Justin Timberlake in 2006.\\n\\nBTS in 2022:\\n\\nAs of 2022, BTS is the best-selling artist in South Korean history, having sold in excess of 30 million albums via the Circle Chart, and their studio album Map of the Soul: 7 (2020) is the best-selling album of all time in South Korea. They are the first non-English-speaking and Asian act to hold sold-out concerts at Wembley Stadium and the Rose Bowl (Love Yourself World Tour in 2019), and were named the International Federation of the Phonographic Industry&#39;s (IFPI) Global Recording Artist of the Year for both 2020 and 2021.\\nALSO READ: Watch: BTS teases hilarious RUN BTS TV On-air show: V hosts, SUGA paints, Jungkook on drums and more\\n\\nStay updated with the latest Hallyu news on:&nbsp;Instagram,&nbsp;YouTube,&nbsp;Twitter,&nbsp;Facebook&nbsp;and&nbsp;Snapchat\\n\\nWhich BTS member did you get? Let us know in the comments below.&nbsp;\\n'"
      ]
     },
     "execution_count": 4,
     "metadata": {},
     "output_type": "execute_result"
    }
   ],
   "source": [
    "df1['content'].iloc[401]"
   ]
  },
  {
   "cell_type": "markdown",
   "id": "4b5f131d",
   "metadata": {},
   "source": [
    "## 2.2 Realized that columns other than published_at, source, topic are useless, and would contribute nothing, rather than increasing dimensionality. So decided to drop them"
   ]
  },
  {
   "cell_type": "code",
   "execution_count": 5,
   "id": "b2cf2485",
   "metadata": {},
   "outputs": [
    {
     "data": {
      "text/html": [
       "<div>\n",
       "<style scoped>\n",
       "    .dataframe tbody tr th:only-of-type {\n",
       "        vertical-align: middle;\n",
       "    }\n",
       "\n",
       "    .dataframe tbody tr th {\n",
       "        vertical-align: top;\n",
       "    }\n",
       "\n",
       "    .dataframe thead th {\n",
       "        text-align: right;\n",
       "    }\n",
       "</style>\n",
       "<table border=\"1\" class=\"dataframe\">\n",
       "  <thead>\n",
       "    <tr style=\"text-align: right;\">\n",
       "      <th></th>\n",
       "      <th>title</th>\n",
       "      <th>content</th>\n",
       "    </tr>\n",
       "  </thead>\n",
       "  <tbody>\n",
       "    <tr>\n",
       "      <th>0</th>\n",
       "      <td>BTS: RM is reminded of Bon Voyage as he travel...</td>\n",
       "      <td>After reaching his hotel in the city, RM revea...</td>\n",
       "    </tr>\n",
       "    <tr>\n",
       "      <th>1</th>\n",
       "      <td>RM recalls wondering if he 'made right decisio...</td>\n",
       "      <td>RM aka Kim Namjoon was the first member to joi...</td>\n",
       "    </tr>\n",
       "    <tr>\n",
       "      <th>2</th>\n",
       "      <td>BTS: J-Hope and RM go bonkers at Billie Eilish...</td>\n",
       "      <td>Billie Eilish's concert was held in Seoul, Sou...</td>\n",
       "    </tr>\n",
       "    <tr>\n",
       "      <th>3</th>\n",
       "      <td>BTS: J-Hope proudly states he raised Jungkook,...</td>\n",
       "      <td>BTS ARMY y'all would be missing the members a ...</td>\n",
       "    </tr>\n",
       "    <tr>\n",
       "      <th>4</th>\n",
       "      <td>BTS: Jin aka Kim Seokjin takes us through the ...</td>\n",
       "      <td>BTS member Kim Seokjin aka Jin has the capacit...</td>\n",
       "    </tr>\n",
       "    <tr>\n",
       "      <th>...</th>\n",
       "      <td>...</td>\n",
       "      <td>...</td>\n",
       "    </tr>\n",
       "    <tr>\n",
       "      <th>805</th>\n",
       "      <td>BTS’ SUGA’s Suchwita Ep 2 Teaser OUT: Top 3 so...</td>\n",
       "      <td>BTS has conquered the world with their group r...</td>\n",
       "    </tr>\n",
       "    <tr>\n",
       "      <th>806</th>\n",
       "      <td>BTS ARMY celebrate 700 days of Jin's special s...</td>\n",
       "      <td>Today marks 700 days since BTS' worldwide hand...</td>\n",
       "    </tr>\n",
       "    <tr>\n",
       "      <th>807</th>\n",
       "      <td>BTS: 'I am not a baby,' says Jungkook as an AR...</td>\n",
       "      <td>BTS' youngest member Jungkook came online on W...</td>\n",
       "    </tr>\n",
       "    <tr>\n",
       "      <th>808</th>\n",
       "      <td>BTS' Jin shares 1st pics after joining militar...</td>\n",
       "      <td>BTS' eldest member Jin has shared pictures and...</td>\n",
       "    </tr>\n",
       "    <tr>\n",
       "      <th>809</th>\n",
       "      <td>Bad Decisions: BTS’ Jin, Jimin, V &amp; Jungkook j...</td>\n",
       "      <td>After a lot of teasing, Benny Blanco’s collabo...</td>\n",
       "    </tr>\n",
       "  </tbody>\n",
       "</table>\n",
       "<p>810 rows × 2 columns</p>\n",
       "</div>"
      ],
      "text/plain": [
       "                                                 title  \\\n",
       "0    BTS: RM is reminded of Bon Voyage as he travel...   \n",
       "1    RM recalls wondering if he 'made right decisio...   \n",
       "2    BTS: J-Hope and RM go bonkers at Billie Eilish...   \n",
       "3    BTS: J-Hope proudly states he raised Jungkook,...   \n",
       "4    BTS: Jin aka Kim Seokjin takes us through the ...   \n",
       "..                                                 ...   \n",
       "805  BTS’ SUGA’s Suchwita Ep 2 Teaser OUT: Top 3 so...   \n",
       "806  BTS ARMY celebrate 700 days of Jin's special s...   \n",
       "807  BTS: 'I am not a baby,' says Jungkook as an AR...   \n",
       "808  BTS' Jin shares 1st pics after joining militar...   \n",
       "809  Bad Decisions: BTS’ Jin, Jimin, V & Jungkook j...   \n",
       "\n",
       "                                               content  \n",
       "0    After reaching his hotel in the city, RM revea...  \n",
       "1    RM aka Kim Namjoon was the first member to joi...  \n",
       "2    Billie Eilish's concert was held in Seoul, Sou...  \n",
       "3    BTS ARMY y'all would be missing the members a ...  \n",
       "4    BTS member Kim Seokjin aka Jin has the capacit...  \n",
       "..                                                 ...  \n",
       "805  BTS has conquered the world with their group r...  \n",
       "806  Today marks 700 days since BTS' worldwide hand...  \n",
       "807  BTS' youngest member Jungkook came online on W...  \n",
       "808  BTS' eldest member Jin has shared pictures and...  \n",
       "809  After a lot of teasing, Benny Blanco’s collabo...  \n",
       "\n",
       "[810 rows x 2 columns]"
      ]
     },
     "execution_count": 5,
     "metadata": {},
     "output_type": "execute_result"
    }
   ],
   "source": [
    "df1.drop(['published_at', 'source', 'topic'], axis=1)"
   ]
  },
  {
   "cell_type": "code",
   "execution_count": 6,
   "id": "02777d42",
   "metadata": {},
   "outputs": [
    {
     "data": {
      "text/html": [
       "<div>\n",
       "<style scoped>\n",
       "    .dataframe tbody tr th:only-of-type {\n",
       "        vertical-align: middle;\n",
       "    }\n",
       "\n",
       "    .dataframe tbody tr th {\n",
       "        vertical-align: top;\n",
       "    }\n",
       "\n",
       "    .dataframe thead th {\n",
       "        text-align: right;\n",
       "    }\n",
       "</style>\n",
       "<table border=\"1\" class=\"dataframe\">\n",
       "  <thead>\n",
       "    <tr style=\"text-align: right;\">\n",
       "      <th></th>\n",
       "      <th>title</th>\n",
       "      <th>content</th>\n",
       "    </tr>\n",
       "  </thead>\n",
       "  <tbody>\n",
       "    <tr>\n",
       "      <th>0</th>\n",
       "      <td>BTS: RM is reminded of Bon Voyage as he travel...</td>\n",
       "      <td>After reaching his hotel in the city, RM revea...</td>\n",
       "    </tr>\n",
       "    <tr>\n",
       "      <th>1</th>\n",
       "      <td>RM recalls wondering if he 'made right decisio...</td>\n",
       "      <td>RM aka Kim Namjoon was the first member to joi...</td>\n",
       "    </tr>\n",
       "    <tr>\n",
       "      <th>2</th>\n",
       "      <td>BTS: J-Hope and RM go bonkers at Billie Eilish...</td>\n",
       "      <td>Billie Eilish's concert was held in Seoul, Sou...</td>\n",
       "    </tr>\n",
       "    <tr>\n",
       "      <th>3</th>\n",
       "      <td>BTS: J-Hope proudly states he raised Jungkook,...</td>\n",
       "      <td>BTS ARMY y'all would be missing the members a ...</td>\n",
       "    </tr>\n",
       "    <tr>\n",
       "      <th>4</th>\n",
       "      <td>BTS: Jin aka Kim Seokjin takes us through the ...</td>\n",
       "      <td>BTS member Kim Seokjin aka Jin has the capacit...</td>\n",
       "    </tr>\n",
       "  </tbody>\n",
       "</table>\n",
       "</div>"
      ],
      "text/plain": [
       "                                               title  \\\n",
       "0  BTS: RM is reminded of Bon Voyage as he travel...   \n",
       "1  RM recalls wondering if he 'made right decisio...   \n",
       "2  BTS: J-Hope and RM go bonkers at Billie Eilish...   \n",
       "3  BTS: J-Hope proudly states he raised Jungkook,...   \n",
       "4  BTS: Jin aka Kim Seokjin takes us through the ...   \n",
       "\n",
       "                                             content  \n",
       "0  After reaching his hotel in the city, RM revea...  \n",
       "1  RM aka Kim Namjoon was the first member to joi...  \n",
       "2  Billie Eilish's concert was held in Seoul, Sou...  \n",
       "3  BTS ARMY y'all would be missing the members a ...  \n",
       "4  BTS member Kim Seokjin aka Jin has the capacit...  "
      ]
     },
     "execution_count": 6,
     "metadata": {},
     "output_type": "execute_result"
    }
   ],
   "source": [
    "df1.drop(['published_at', 'source', 'topic'], axis=1, inplace=True)\n",
    "df1.head()"
   ]
  },
  {
   "cell_type": "markdown",
   "id": "ebef94f2",
   "metadata": {},
   "source": [
    "## 2.3 Checking if there are any null values in the dataframe"
   ]
  },
  {
   "cell_type": "code",
   "execution_count": 7,
   "id": "bdf4fa43",
   "metadata": {},
   "outputs": [
    {
     "data": {
      "text/plain": [
       "title      0\n",
       "content    4\n",
       "dtype: int64"
      ]
     },
     "execution_count": 7,
     "metadata": {},
     "output_type": "execute_result"
    }
   ],
   "source": [
    "df1.isna().sum()"
   ]
  },
  {
   "cell_type": "markdown",
   "id": "5b347e91",
   "metadata": {},
   "source": [
    "## 2.4 As there are null values and are very less (4 <<< 810), its better to drop them"
   ]
  },
  {
   "cell_type": "code",
   "execution_count": 8,
   "id": "aeb6cc24",
   "metadata": {},
   "outputs": [
    {
     "data": {
      "text/html": [
       "<div>\n",
       "<style scoped>\n",
       "    .dataframe tbody tr th:only-of-type {\n",
       "        vertical-align: middle;\n",
       "    }\n",
       "\n",
       "    .dataframe tbody tr th {\n",
       "        vertical-align: top;\n",
       "    }\n",
       "\n",
       "    .dataframe thead th {\n",
       "        text-align: right;\n",
       "    }\n",
       "</style>\n",
       "<table border=\"1\" class=\"dataframe\">\n",
       "  <thead>\n",
       "    <tr style=\"text-align: right;\">\n",
       "      <th></th>\n",
       "      <th>title</th>\n",
       "      <th>content</th>\n",
       "    </tr>\n",
       "  </thead>\n",
       "  <tbody>\n",
       "    <tr>\n",
       "      <th>0</th>\n",
       "      <td>BTS: RM is reminded of Bon Voyage as he travel...</td>\n",
       "      <td>After reaching his hotel in the city, RM revea...</td>\n",
       "    </tr>\n",
       "    <tr>\n",
       "      <th>1</th>\n",
       "      <td>RM recalls wondering if he 'made right decisio...</td>\n",
       "      <td>RM aka Kim Namjoon was the first member to joi...</td>\n",
       "    </tr>\n",
       "    <tr>\n",
       "      <th>2</th>\n",
       "      <td>BTS: J-Hope and RM go bonkers at Billie Eilish...</td>\n",
       "      <td>Billie Eilish's concert was held in Seoul, Sou...</td>\n",
       "    </tr>\n",
       "    <tr>\n",
       "      <th>3</th>\n",
       "      <td>BTS: J-Hope proudly states he raised Jungkook,...</td>\n",
       "      <td>BTS ARMY y'all would be missing the members a ...</td>\n",
       "    </tr>\n",
       "    <tr>\n",
       "      <th>4</th>\n",
       "      <td>BTS: Jin aka Kim Seokjin takes us through the ...</td>\n",
       "      <td>BTS member Kim Seokjin aka Jin has the capacit...</td>\n",
       "    </tr>\n",
       "  </tbody>\n",
       "</table>\n",
       "</div>"
      ],
      "text/plain": [
       "                                               title  \\\n",
       "0  BTS: RM is reminded of Bon Voyage as he travel...   \n",
       "1  RM recalls wondering if he 'made right decisio...   \n",
       "2  BTS: J-Hope and RM go bonkers at Billie Eilish...   \n",
       "3  BTS: J-Hope proudly states he raised Jungkook,...   \n",
       "4  BTS: Jin aka Kim Seokjin takes us through the ...   \n",
       "\n",
       "                                             content  \n",
       "0  After reaching his hotel in the city, RM revea...  \n",
       "1  RM aka Kim Namjoon was the first member to joi...  \n",
       "2  Billie Eilish's concert was held in Seoul, Sou...  \n",
       "3  BTS ARMY y'all would be missing the members a ...  \n",
       "4  BTS member Kim Seokjin aka Jin has the capacit...  "
      ]
     },
     "execution_count": 8,
     "metadata": {},
     "output_type": "execute_result"
    }
   ],
   "source": [
    "df1.dropna(axis=0, inplace=True)\n",
    "df1.head()"
   ]
  },
  {
   "cell_type": "code",
   "execution_count": 9,
   "id": "164d53bd",
   "metadata": {},
   "outputs": [
    {
     "data": {
      "text/plain": [
       "(806, 2)"
      ]
     },
     "execution_count": 9,
     "metadata": {},
     "output_type": "execute_result"
    }
   ],
   "source": [
    "df1.shape"
   ]
  },
  {
   "cell_type": "code",
   "execution_count": 10,
   "id": "b3cd29c6",
   "metadata": {},
   "outputs": [
    {
     "data": {
      "text/plain": [
       "'After reaching his hotel in the city, RM revealed that his stay would be for four days and added that he would step out for dinner. As he sat at a roadside open-air restaurant, RM feasted on beer, burgers and fries. He said, \"I\\'m starving right now. I\\'m out to grab some food. It\\'s much quieter than I expected and feels like a rural town. I like the familiar atmosphere.\" RM attended Art Basel and explained on camera the details of the art fair. He also gave a glimpse as he had noodles and beer which was followed by soup noodles and wrap. Showing the pattern of a ping pong table, RM said, \"The table looks like our (BTS) symbol.\" He also spoke about the art pieces as he viewed them. After that, RM took a tram to visit the Foundation Beyeler, a museum. He later took a walk through the city. On his third day, RM visited the Kunstmuseum Basel, the Vitra Design Museum and the gallery. As he walked around, RM showed a chair to his fans and said, \"I have breaking news for you guys. Coldplay\\'s Chris Martin made a chair and it\\'s displayed in the Vitra Design Museum. If you see this Chris, give me a call. You\\'re amazing.\" RM next visited Lucerne and hiked to Mount Rigi. Recalling his previous visit to Lucerne, RM added, \"I remember the day of crossing that bridge and buying souvenirs.\" He was also reminded of Bon Voyage, a reality show featuring BTS members RM, Jin, Suga, J-Hope, Jimin, V and Jungkook. Speaking to the camera, RM said, \"I rode the SSB train to Lucerne, rode a boat, rode the mountain train, walked down the track road, rode the cable cars, and now I\\'m on a boat planning to go ride the SSB again.\" RM\\'s travel in Switzerland ended with a visit to the Museum Tinguely. Next, RM flew to Paris to attend the Pinault Collection and to visit Musee d\\'Orsay. He then went to Centre Georges-Pompidou and Orsay Museum. RM\\'s vlog ended with him enjoying a Korean meal and then heading back to Seoul.'"
      ]
     },
     "execution_count": 10,
     "metadata": {},
     "output_type": "execute_result"
    }
   ],
   "source": [
    "df1['content'].iloc[0]"
   ]
  },
  {
   "cell_type": "markdown",
   "id": "fccf721e",
   "metadata": {},
   "source": [
    "### In the above data, we can see that there are many contractions, puntuations"
   ]
  },
  {
   "cell_type": "code",
   "execution_count": 11,
   "id": "ce68388d",
   "metadata": {},
   "outputs": [
    {
     "data": {
      "text/plain": [
       "'BTS&rsquo; Jin is good at a lot of things, singing, being &lsquo;worldwide handsome&rsquo;, cooking for Bangtan, and now even making alcohol  The second week of his own program, Drunken Truth, which starred well-known chef Baek Jong Won and saw a guest appearance from actor Kim Nam Gil, unfolds in unique ways \\n\\nDrunken Truth Episode 3\\nAs Jin and Baek Jong Won reach a spot to take care of the final steps of his first try at making makgeolli (rice wine), the two show another attempt at their flourishing synergy  Jin is known to be good with elders as he can joke around and that is clearly visible in the show  The two head out with their own bottles of self-made alcohol, their destination is a traditional market  Being a chef, it is Baek Jong Won&rsquo;s territory who is recognized by the vendors which consist of mostly older women and is asked for photos, while funnily enough, they are unaware of BTS member Jin  A neck-and-neck competition between them shows the difference in preferences between the older and younger generations \\nxBrxoby158IDrunken Truth Episode 4\\nBaek Jong Won and Jin are just getting ready to make some side dishes to go along with their drinking session when a guest makes himself known  Popular actor Kim Nam Gil&rsquo;s casual presence adds fun to the episode  The older ones take turns poking fun at Jin who in turn is his cheeky self around them, displaying his closeness with the two  They enjoy the food and alcohol made by the two and Jin&rsquo;s keeps cracking jokes throughout as is his personality  The show focuses on the chef&rsquo;s aim to keep the integrity and bring back the popularity of traditional Korean alcohol- soju  Kim Nam Gil is a silent observer who was invited impromptu by Jin but adds his meaningful remarks throughout  As Jin gifts a set of his famous pyjamas to Baek Jong Won, the night runs deeper  The next morning, they are back at it again, appreciating Jin&rsquo;s skills \\n\\nJin heads to meet the alcohol maestro Park Rokdam to ask for giving him the recipe to him so he can be able to share it with the rest of the BTS members  The artisan names this alcohol &lsquo;Brothers of Four Seas&rsquo;  Jin is congratulated for his fantastic first effort \\nzVKX6VRMzxsStay updated with the latest Hallyu news on: Instagram, YouTube, Twitter, Facebook and Snapchat\\nALSO READ: Emergency Declaration Review: Im Siwan’s stirring portrayal makes way for Kim Nam Gil &amp; Lee Byung Hun’s flight'"
      ]
     },
     "execution_count": 11,
     "metadata": {},
     "output_type": "execute_result"
    }
   ],
   "source": [
    "df1['content'].iloc[365]"
   ]
  },
  {
   "cell_type": "markdown",
   "id": "b08c1a33",
   "metadata": {},
   "source": [
    "### In the above data, we can see there are certain HTML entities like &rsquo. Also we can see '\\n' many a times continously"
   ]
  },
  {
   "cell_type": "code",
   "execution_count": 12,
   "id": "e35e4bab",
   "metadata": {},
   "outputs": [
    {
     "data": {
      "text/plain": [
       "'2022 came to a celebratory end for BTS, especially member J-Hope, who was in New York, making another fabulous display of his skills  While away from the members, he seemed to have enjoyed it to the fullest with a solo performance at Dick Clark&rsquo;s New Year&rsquo;s Rockin&rsquo; Eve where he did a live stage of 3 songs, solo track &lsquo;= (Equal Sign)&rsquo;, &lsquo;Chicken Noodle Soup&rsquo; his collaboration track with Becky G, and BTS&rsquo; &lsquo;Butter&rsquo; (Holiday Remix)  He officially became only the second South Korean soloist to perform at the event, following PSY  This was also J-Hope&rsquo;s third time at Dick Clark&rsquo;s New Year&rsquo;s Rockin&rsquo; Eve after group stages with BTS in 2017 and 2019 \\n\\nJ-Hope&rsquo;s live\\n\\nAfter returning from Times Square where he performed as the penultimate act alongside multiple other singers from around the world and spoke to Ryan Seacrest, the host of the show, J-Hope was back at his hotel room and turned on a live broadcast to speak with his fans  As they congratulated him on his sparkling performance, being the perfectionist that he is, J-Hope expressed his sadness about being unable to use his voice to the fullest and talked about the slipping incident due to the rainy weather during his rehearsal stage &nbsp;\\n\\nJ-Hope on other BTS members&rsquo; New Year wishes\\n\\nAs soon as it turned 12, and the New Year began in South Korea, BTS members Jungkook, Jimin, and V took to the fan community platform Weverse to share their wishes with the fans as well as discuss their plans for the coming year  Jungkook and V kept it brief, wishing for a successful and happy year ahead while Jimin wrote a big letter to his fans about the feelings he had seemingly bottled for a long time about his wishes to release new music soon for which he has been meeting up with composers \\n\\nThousands of miles away, member J-Hope was his cheeky self as he unleashed all his love for his fellow BTS members  He began commenting &lsquo;love you&rsquo; on their posts with cute words and received laughs from them in return \\n\\nJin&rsquo;s call to J-Hope\\n\\nOn being asked about BTS&rsquo; oldest member Jin who became the first from the group to enlist in the military on December 13, J-Hope recalled how he was called by the member with a different phone number and almost missed it  J-Hope said, &ldquo;Right before I was about to sleep on the 31st, I got a call from Jin and asked him how he was doing to which he said J-Hope, pick up your phone  I told him I did not know this number, how would I know it was his?&rdquo;\\n\\nThe &lsquo;Arson&rsquo; hitmaker spoke with a smile on his face about how he felt happy hearing Jin&rsquo;s voice  It comforted him and J-Hope mentioned how he remembered all those moments he spent with Jin  He assured the fans by saying that Jin seemed to be healthy and doing well in the military  So in place of Jin, he shared that he was well and asked the fans to not worry  The lovely duo, BTS&rsquo; Jin and J-Hope nicknamed 2seok have always&nbsp;lightened the fans&rsquo; hearts with this interaction \\nhttps://twitter com/nightstar1201/status/1609428759454822401Jimin X Taeyang\\n\\nBTS member Jimin and BIGBANG member Taeyang are a collaboration nobody would have expected  However, in December 2022, it was reported by industry officials that the two are working together on a release that will soon be revealed to the world  To this, Taeyang&rsquo;s then-agency, YG Entertainment, which he has since departed, replied by saying that they cannot confirm anything at the moment and asked fans to anticipate Taeyang&rsquo;s activities &nbsp;\\n\\nOn January 1, Taeyang who is currently a free agent, not having signed with anyone for his solo activities as he continues to be with YG Entertainment for any content related to BIGBANG, shared a rare update on his Instagram account  2 photos were shared with a caption of the hashtag #2023  In black and white, 2 people could be seen in the photos, their backs to the camera  While one could easily be spotted as Taeyang himself, the other one was not tagged &nbsp;\\n\\n                                                                                    \\n                                                                                Fans went into action and soon began investigating every detail of the photo  The other person seemed to be Jimin, as his hands, fluffy hair, and earrings seem to match the BTS member  Though no official announcement was made from either side, it seems that the singers have decided to give a green signal from their ends  Taeyang is rumoured to have been preparing for a January 2023 comeback so it seems as though we can expect the reports any time now  Once confirmed, this could very well be the biggest release of the year and one of the most hyped collaborations in K-pop history!\\n\\nMeanwhile, BIGBANG&rsquo;s G-Dragon also announced that he is working on an album and hopes to release it in 2023 \\n\\nStay updated with the latest Hallyu news on: Instagram, YouTube, Twitter, Facebook and Snapchat\\nALSO READ: BTS’ J-Hope, TXT wow at Dick Clark’s New Year’s Rockin’ Eve: 5 highlights from their stages'"
      ]
     },
     "execution_count": 12,
     "metadata": {},
     "output_type": "execute_result"
    }
   ],
   "source": [
    "text = df1['content'].iloc[369]\n",
    "text"
   ]
  },
  {
   "cell_type": "markdown",
   "id": "c80be382",
   "metadata": {},
   "source": [
    "### The data above, is filled with empty spaces, '\\t', '\\n' characters, HTML entities, punctuations and contractions. And all these has to be removed before text summarization process"
   ]
  },
  {
   "cell_type": "code",
   "execution_count": 13,
   "id": "aa82df6d",
   "metadata": {},
   "outputs": [
    {
     "data": {
      "text/plain": [
       "'Actor Son Ye-jin, of Crash Landing on You fame, had once revealed that she wanted to treat BTS members RM, Jin, Suga, J-Hope, Jimin, V and Jungkook to a meal  At the 2018 Korean Popular Culture &amp; Arts Awards, Son Ye-jin was asked if she will buy a meal for anyone in the audience  (Also Read | BTS ARMY says they are \\'getting deals\\' for the band after convincing singer Pink Sweat$ for a collaboration)In a video, shared by a fan account on YouTube, she had said, \"After the drama, there are so many people asking me to buy food  So, I\\'m trying not to meet people \" The host of the event, asked her, \"Is there anyone here that you want to buy a meal for?\" After thinking for a moment, she turned around, smiled and replied, \"BTS \"Amid hooting, Son Ye-jin was seen laughing  While RM too laughed, Jin flashed finger hearts, Suga clapped and bowed his head and J-Hope smiled at the actor\\'s response  Jimin smiled, V made fists and Jungkook bowed his head However, what Son Ye-jin next said left everyone in splits  \"But I\\'m worried because there are so many members \" While RM laughed and covered his face, the other members were also seen giggling  The host added, \"Anyway, I hope Son Ye-jin buys food for BTS \" Son Ye-jin smiled and nodded In Son Ye-jin\\'s show, Crash Landing on You (2019), BTS was given a nod  In episode seven, a teenage female patient, Hyun Min-ji, asked Son Ye-jin\\'s character Yoon Se-ri her favourite BTS member Min-ji said that she found BTS\\' Jungkook \\'charming\\' and he is her favourite member  When asked about hers, Se-ri replied Ri Jeong-hyeok  The character was played by actor Hyun Bin  Recently, Hyun Bin and Son Ye-jin got married in Seoul, South Korea Meanwhile, BTS recently announced that they will release their new album on June 10  The development on the new album came just after BTS\\' Permission to Dance On Stage tour at Allegiant Stadium in Las Vegas, US  The group released their last album BE in December 2020  BTS then released two back-to-back English singles Butter and Permission to Dance last year'"
      ]
     },
     "execution_count": 13,
     "metadata": {},
     "output_type": "execute_result"
    }
   ],
   "source": [
    "df1['content'].iloc[450]"
   ]
  },
  {
   "cell_type": "markdown",
   "id": "f6b080b0",
   "metadata": {},
   "source": [
    "## 2.5 There are HTML Tags and Entities, which needs to be cleaned from data"
   ]
  },
  {
   "cell_type": "code",
   "execution_count": 14,
   "id": "cc2e9af4",
   "metadata": {},
   "outputs": [],
   "source": [
    "from bs4 import BeautifulSoup"
   ]
  },
  {
   "cell_type": "code",
   "execution_count": 15,
   "id": "b2f2b2e3",
   "metadata": {},
   "outputs": [],
   "source": [
    "def removeHTMLTagsAndEntities(s):\n",
    "    return BeautifulSoup(BeautifulSoup(s, \"lxml\").text, \"html.parser\")"
   ]
  },
  {
   "cell_type": "code",
   "execution_count": 16,
   "id": "9f84aa4c",
   "metadata": {},
   "outputs": [
    {
     "data": {
      "text/plain": [
       "BTS’ Jin is good at a lot of things, singing, being ‘worldwide handsome’, cooking for Bangtan, and now even making alcohol  The second week of his own program, Drunken Truth, which starred well-known chef Baek Jong Won and saw a guest appearance from actor Kim Nam Gil, unfolds in unique ways \n",
       "\n",
       "Drunken Truth Episode 3\n",
       "As Jin and Baek Jong Won reach a spot to take care of the final steps of his first try at making makgeolli (rice wine), the two show another attempt at their flourishing synergy  Jin is known to be good with elders as he can joke around and that is clearly visible in the show  The two head out with their own bottles of self-made alcohol, their destination is a traditional market  Being a chef, it is Baek Jong Won’s territory who is recognized by the vendors which consist of mostly older women and is asked for photos, while funnily enough, they are unaware of BTS member Jin  A neck-and-neck competition between them shows the difference in preferences between the older and younger generations \n",
       "xBrxoby158IDrunken Truth Episode 4\n",
       "Baek Jong Won and Jin are just getting ready to make some side dishes to go along with their drinking session when a guest makes himself known  Popular actor Kim Nam Gil’s casual presence adds fun to the episode  The older ones take turns poking fun at Jin who in turn is his cheeky self around them, displaying his closeness with the two  They enjoy the food and alcohol made by the two and Jin’s keeps cracking jokes throughout as is his personality  The show focuses on the chef’s aim to keep the integrity and bring back the popularity of traditional Korean alcohol- soju  Kim Nam Gil is a silent observer who was invited impromptu by Jin but adds his meaningful remarks throughout  As Jin gifts a set of his famous pyjamas to Baek Jong Won, the night runs deeper  The next morning, they are back at it again, appreciating Jin’s skills \n",
       "\n",
       "Jin heads to meet the alcohol maestro Park Rokdam to ask for giving him the recipe to him so he can be able to share it with the rest of the BTS members  The artisan names this alcohol ‘Brothers of Four Seas’  Jin is congratulated for his fantastic first effort \n",
       "zVKX6VRMzxsStay updated with the latest Hallyu news on: Instagram, YouTube, Twitter, Facebook and Snapchat\n",
       "ALSO READ: Emergency Declaration Review: Im Siwan’s stirring portrayal makes way for Kim Nam Gil &amp; Lee Byung Hun’s flight"
      ]
     },
     "execution_count": 16,
     "metadata": {},
     "output_type": "execute_result"
    }
   ],
   "source": [
    "removeHTMLTagsAndEntities(df1['content'].iloc[365])"
   ]
  },
  {
   "cell_type": "code",
   "execution_count": 17,
   "id": "8d240b84",
   "metadata": {},
   "outputs": [
    {
     "data": {
      "text/plain": [
       "2022 came to a celebratory end for BTS, especially member J-Hope, who was in New York, making another fabulous display of his skills  While away from the members, he seemed to have enjoyed it to the fullest with a solo performance at Dick Clark’s New Year’s Rockin’ Eve where he did a live stage of 3 songs, solo track ‘= (Equal Sign)’, ‘Chicken Noodle Soup’ his collaboration track with Becky G, and BTS’ ‘Butter’ (Holiday Remix)  He officially became only the second South Korean soloist to perform at the event, following PSY  This was also J-Hope’s third time at Dick Clark’s New Year’s Rockin’ Eve after group stages with BTS in 2017 and 2019 \n",
       "\n",
       "J-Hope’s live\n",
       "\n",
       "After returning from Times Square where he performed as the penultimate act alongside multiple other singers from around the world and spoke to Ryan Seacrest, the host of the show, J-Hope was back at his hotel room and turned on a live broadcast to speak with his fans  As they congratulated him on his sparkling performance, being the perfectionist that he is, J-Hope expressed his sadness about being unable to use his voice to the fullest and talked about the slipping incident due to the rainy weather during his rehearsal stage  \n",
       "\n",
       "J-Hope on other BTS members’ New Year wishes\n",
       "\n",
       "As soon as it turned 12, and the New Year began in South Korea, BTS members Jungkook, Jimin, and V took to the fan community platform Weverse to share their wishes with the fans as well as discuss their plans for the coming year  Jungkook and V kept it brief, wishing for a successful and happy year ahead while Jimin wrote a big letter to his fans about the feelings he had seemingly bottled for a long time about his wishes to release new music soon for which he has been meeting up with composers \n",
       "\n",
       "Thousands of miles away, member J-Hope was his cheeky self as he unleashed all his love for his fellow BTS members  He began commenting ‘love you’ on their posts with cute words and received laughs from them in return \n",
       "\n",
       "Jin’s call to J-Hope\n",
       "\n",
       "On being asked about BTS’ oldest member Jin who became the first from the group to enlist in the military on December 13, J-Hope recalled how he was called by the member with a different phone number and almost missed it  J-Hope said, “Right before I was about to sleep on the 31st, I got a call from Jin and asked him how he was doing to which he said J-Hope, pick up your phone  I told him I did not know this number, how would I know it was his?”\n",
       "\n",
       "The ‘Arson’ hitmaker spoke with a smile on his face about how he felt happy hearing Jin’s voice  It comforted him and J-Hope mentioned how he remembered all those moments he spent with Jin  He assured the fans by saying that Jin seemed to be healthy and doing well in the military  So in place of Jin, he shared that he was well and asked the fans to not worry  The lovely duo, BTS’ Jin and J-Hope nicknamed 2seok have always lightened the fans’ hearts with this interaction \n",
       "https://twitter com/nightstar1201/status/1609428759454822401Jimin X Taeyang\n",
       "\n",
       "BTS member Jimin and BIGBANG member Taeyang are a collaboration nobody would have expected  However, in December 2022, it was reported by industry officials that the two are working together on a release that will soon be revealed to the world  To this, Taeyang’s then-agency, YG Entertainment, which he has since departed, replied by saying that they cannot confirm anything at the moment and asked fans to anticipate Taeyang’s activities  \n",
       "\n",
       "On January 1, Taeyang who is currently a free agent, not having signed with anyone for his solo activities as he continues to be with YG Entertainment for any content related to BIGBANG, shared a rare update on his Instagram account  2 photos were shared with a caption of the hashtag #2023  In black and white, 2 people could be seen in the photos, their backs to the camera  While one could easily be spotted as Taeyang himself, the other one was not tagged  \n",
       "\n",
       "                                                                                    \n",
       "                                                                                Fans went into action and soon began investigating every detail of the photo  The other person seemed to be Jimin, as his hands, fluffy hair, and earrings seem to match the BTS member  Though no official announcement was made from either side, it seems that the singers have decided to give a green signal from their ends  Taeyang is rumoured to have been preparing for a January 2023 comeback so it seems as though we can expect the reports any time now  Once confirmed, this could very well be the biggest release of the year and one of the most hyped collaborations in K-pop history!\n",
       "\n",
       "Meanwhile, BIGBANG’s G-Dragon also announced that he is working on an album and hopes to release it in 2023 \n",
       "\n",
       "Stay updated with the latest Hallyu news on: Instagram, YouTube, Twitter, Facebook and Snapchat\n",
       "ALSO READ: BTS’ J-Hope, TXT wow at Dick Clark’s New Year’s Rockin’ Eve: 5 highlights from their stages"
      ]
     },
     "execution_count": 17,
     "metadata": {},
     "output_type": "execute_result"
    }
   ],
   "source": [
    "text = removeHTMLTagsAndEntities(text)\n",
    "text"
   ]
  },
  {
   "cell_type": "markdown",
   "id": "8adbe164",
   "metadata": {},
   "source": [
    "## 2.6 There are many spaces, new line characters and also some entire data block with not even a single fullstop/period"
   ]
  },
  {
   "cell_type": "markdown",
   "id": "a32540a0",
   "metadata": {},
   "source": [
    "### Fullstops are important for us, because we are going to tokenize the sentences using fullstops"
   ]
  },
  {
   "cell_type": "code",
   "execution_count": 18,
   "id": "e49afb95",
   "metadata": {},
   "outputs": [],
   "source": [
    "import re"
   ]
  },
  {
   "cell_type": "code",
   "execution_count": 19,
   "id": "d0557c2f",
   "metadata": {},
   "outputs": [],
   "source": [
    "def addingFullstops(s):\n",
    "    s = re.sub(\"\\xa0\",' ', str(s))\n",
    "    s = re.sub(\"(\\\\n)+\", '.', str(s))\n",
    "    s = re.sub(\"(\\\\t)+\", '', str(s))\n",
    "    s = re.sub(\"   \", '', str(s))\n",
    "    s = re.sub(\"(  )\",'.', str(s))\n",
    "    return s"
   ]
  },
  {
   "cell_type": "code",
   "execution_count": 20,
   "id": "55c99c76",
   "metadata": {},
   "outputs": [
    {
     "data": {
      "text/plain": [
       "'2022 came to a celebratory end for BTS, especially member J-Hope, who was in New York, making another fabulous display of his skills.While away from the members, he seemed to have enjoyed it to the fullest with a solo performance at Dick Clark’s New Year’s Rockin’ Eve where he did a live stage of 3 songs, solo track ‘= (Equal Sign)’, ‘Chicken Noodle Soup’ his collaboration track with Becky G, and BTS’ ‘Butter’ (Holiday Remix).He officially became only the second South Korean soloist to perform at the event, following PSY.This was also J-Hope’s third time at Dick Clark’s New Year’s Rockin’ Eve after group stages with BTS in 2017 and 2019 .J-Hope’s live.After returning from Times Square where he performed as the penultimate act alongside multiple other singers from around the world and spoke to Ryan Seacrest, the host of the show, J-Hope was back at his hotel room and turned on a live broadcast to speak with his fans.As they congratulated him on his sparkling performance, being the perfectionist that he is, J-Hope expressed his sadness about being unable to use his voice to the fullest and talked about the slipping incident due to the rainy weather during his rehearsal stage..J-Hope on other BTS members’ New Year wishes.As soon as it turned 12, and the New Year began in South Korea, BTS members Jungkook, Jimin, and V took to the fan community platform Weverse to share their wishes with the fans as well as discuss their plans for the coming year.Jungkook and V kept it brief, wishing for a successful and happy year ahead while Jimin wrote a big letter to his fans about the feelings he had seemingly bottled for a long time about his wishes to release new music soon for which he has been meeting up with composers .Thousands of miles away, member J-Hope was his cheeky self as he unleashed all his love for his fellow BTS members.He began commenting ‘love you’ on their posts with cute words and received laughs from them in return .Jin’s call to J-Hope.On being asked about BTS’ oldest member Jin who became the first from the group to enlist in the military on December 13, J-Hope recalled how he was called by the member with a different phone number and almost missed it.J-Hope said, “Right before I was about to sleep on the 31st, I got a call from Jin and asked him how he was doing to which he said J-Hope, pick up your phone.I told him I did not know this number, how would I know it was his?”.The ‘Arson’ hitmaker spoke with a smile on his face about how he felt happy hearing Jin’s voice.It comforted him and J-Hope mentioned how he remembered all those moments he spent with Jin.He assured the fans by saying that Jin seemed to be healthy and doing well in the military.So in place of Jin, he shared that he was well and asked the fans to not worry.The lovely duo, BTS’ Jin and J-Hope nicknamed 2seok have always lightened the fans’ hearts with this interaction .https://twitter com/nightstar1201/status/1609428759454822401Jimin X Taeyang.BTS member Jimin and BIGBANG member Taeyang are a collaboration nobody would have expected.However, in December 2022, it was reported by industry officials that the two are working together on a release that will soon be revealed to the world.To this, Taeyang’s then-agency, YG Entertainment, which he has since departed, replied by saying that they cannot confirm anything at the moment and asked fans to anticipate Taeyang’s activities..On January 1, Taeyang who is currently a free agent, not having signed with anyone for his solo activities as he continues to be with YG Entertainment for any content related to BIGBANG, shared a rare update on his Instagram account.2 photos were shared with a caption of the hashtag #2023.In black and white, 2 people could be seen in the photos, their backs to the camera.While one could easily be spotted as Taeyang himself, the other one was not tagged....Fans went into action and soon began investigating every detail of the photo.The other person seemed to be Jimin, as his hands, fluffy hair, and earrings seem to match the BTS member.Though no official announcement was made from either side, it seems that the singers have decided to give a green signal from their ends.Taeyang is rumoured to have been preparing for a January 2023 comeback so it seems as though we can expect the reports any time now.Once confirmed, this could very well be the biggest release of the year and one of the most hyped collaborations in K-pop history!.Meanwhile, BIGBANG’s G-Dragon also announced that he is working on an album and hopes to release it in 2023 .Stay updated with the latest Hallyu news on: Instagram, YouTube, Twitter, Facebook and Snapchat.ALSO READ: BTS’ J-Hope, TXT wow at Dick Clark’s New Year’s Rockin’ Eve: 5 highlights from their stages'"
      ]
     },
     "execution_count": 20,
     "metadata": {},
     "output_type": "execute_result"
    }
   ],
   "source": [
    "text = addingFullstops(text)\n",
    "text"
   ]
  },
  {
   "cell_type": "markdown",
   "id": "2aee86e7",
   "metadata": {},
   "source": [
    "### Even after cleaning, there are some repeated fullstops without any sentence. Pre-processing it"
   ]
  },
  {
   "cell_type": "code",
   "execution_count": 21,
   "id": "fe5754cf",
   "metadata": {},
   "outputs": [],
   "source": [
    "from nltk.tokenize import sent_tokenize"
   ]
  },
  {
   "cell_type": "code",
   "execution_count": 22,
   "id": "e9981415",
   "metadata": {},
   "outputs": [],
   "source": [
    "def addFullStops(s):\n",
    "    modified_sentences = []\n",
    "    sentences = s.split(\".\")\n",
    "    for i in sentences:\n",
    "        i = i.strip()\n",
    "        if len(i) != 0:\n",
    "            i += '.'\n",
    "            modified_sentences.append(i)\n",
    "    return \" \". join(modified_sentences)"
   ]
  },
  {
   "cell_type": "code",
   "execution_count": 23,
   "id": "09b05d7e",
   "metadata": {},
   "outputs": [
    {
     "data": {
      "text/plain": [
       "'2022 came to a celebratory end for BTS, especially member J-Hope, who was in New York, making another fabulous display of his skills. While away from the members, he seemed to have enjoyed it to the fullest with a solo performance at Dick Clark’s New Year’s Rockin’ Eve where he did a live stage of 3 songs, solo track ‘= (Equal Sign)’, ‘Chicken Noodle Soup’ his collaboration track with Becky G, and BTS’ ‘Butter’ (Holiday Remix). He officially became only the second South Korean soloist to perform at the event, following PSY. This was also J-Hope’s third time at Dick Clark’s New Year’s Rockin’ Eve after group stages with BTS in 2017 and 2019. J-Hope’s live. After returning from Times Square where he performed as the penultimate act alongside multiple other singers from around the world and spoke to Ryan Seacrest, the host of the show, J-Hope was back at his hotel room and turned on a live broadcast to speak with his fans. As they congratulated him on his sparkling performance, being the perfectionist that he is, J-Hope expressed his sadness about being unable to use his voice to the fullest and talked about the slipping incident due to the rainy weather during his rehearsal stage. J-Hope on other BTS members’ New Year wishes. As soon as it turned 12, and the New Year began in South Korea, BTS members Jungkook, Jimin, and V took to the fan community platform Weverse to share their wishes with the fans as well as discuss their plans for the coming year. Jungkook and V kept it brief, wishing for a successful and happy year ahead while Jimin wrote a big letter to his fans about the feelings he had seemingly bottled for a long time about his wishes to release new music soon for which he has been meeting up with composers. Thousands of miles away, member J-Hope was his cheeky self as he unleashed all his love for his fellow BTS members. He began commenting ‘love you’ on their posts with cute words and received laughs from them in return. Jin’s call to J-Hope. On being asked about BTS’ oldest member Jin who became the first from the group to enlist in the military on December 13, J-Hope recalled how he was called by the member with a different phone number and almost missed it. J-Hope said, “Right before I was about to sleep on the 31st, I got a call from Jin and asked him how he was doing to which he said J-Hope, pick up your phone. I told him I did not know this number, how would I know it was his?”. The ‘Arson’ hitmaker spoke with a smile on his face about how he felt happy hearing Jin’s voice. It comforted him and J-Hope mentioned how he remembered all those moments he spent with Jin. He assured the fans by saying that Jin seemed to be healthy and doing well in the military. So in place of Jin, he shared that he was well and asked the fans to not worry. The lovely duo, BTS’ Jin and J-Hope nicknamed 2seok have always lightened the fans’ hearts with this interaction. https://twitter com/nightstar1201/status/1609428759454822401Jimin X Taeyang. BTS member Jimin and BIGBANG member Taeyang are a collaboration nobody would have expected. However, in December 2022, it was reported by industry officials that the two are working together on a release that will soon be revealed to the world. To this, Taeyang’s then-agency, YG Entertainment, which he has since departed, replied by saying that they cannot confirm anything at the moment and asked fans to anticipate Taeyang’s activities. On January 1, Taeyang who is currently a free agent, not having signed with anyone for his solo activities as he continues to be with YG Entertainment for any content related to BIGBANG, shared a rare update on his Instagram account. 2 photos were shared with a caption of the hashtag #2023. In black and white, 2 people could be seen in the photos, their backs to the camera. While one could easily be spotted as Taeyang himself, the other one was not tagged. Fans went into action and soon began investigating every detail of the photo. The other person seemed to be Jimin, as his hands, fluffy hair, and earrings seem to match the BTS member. Though no official announcement was made from either side, it seems that the singers have decided to give a green signal from their ends. Taeyang is rumoured to have been preparing for a January 2023 comeback so it seems as though we can expect the reports any time now. Once confirmed, this could very well be the biggest release of the year and one of the most hyped collaborations in K-pop history!. Meanwhile, BIGBANG’s G-Dragon also announced that he is working on an album and hopes to release it in 2023. Stay updated with the latest Hallyu news on: Instagram, YouTube, Twitter, Facebook and Snapchat. ALSO READ: BTS’ J-Hope, TXT wow at Dick Clark’s New Year’s Rockin’ Eve: 5 highlights from their stages.'"
      ]
     },
     "execution_count": 23,
     "metadata": {},
     "output_type": "execute_result"
    }
   ],
   "source": [
    "text = addFullStops(text)\n",
    "text"
   ]
  },
  {
   "cell_type": "markdown",
   "id": "06e2c843",
   "metadata": {},
   "source": [
    "## 2.7 For certain words, I saw contractions were used, so decided to replace them with actual word"
   ]
  },
  {
   "cell_type": "code",
   "execution_count": 24,
   "id": "4bba83db",
   "metadata": {},
   "outputs": [],
   "source": [
    "import contractions"
   ]
  },
  {
   "cell_type": "code",
   "execution_count": 25,
   "id": "ea3dcc4f",
   "metadata": {},
   "outputs": [],
   "source": [
    "def removingContractions(s):\n",
    "    words = []\n",
    "    for i in s.split(\" \"):\n",
    "        words.append(contractions.fix(i))\n",
    "    s = \" \".join(words)\n",
    "    return s"
   ]
  },
  {
   "cell_type": "code",
   "execution_count": 26,
   "id": "a32370d7",
   "metadata": {},
   "outputs": [
    {
     "data": {
      "text/plain": [
       "'I would'"
      ]
     },
     "execution_count": 26,
     "metadata": {},
     "output_type": "execute_result"
    }
   ],
   "source": [
    "removingContractions(\"I'd\")"
   ]
  },
  {
   "cell_type": "code",
   "execution_count": 27,
   "id": "aa6ebdd2",
   "metadata": {},
   "outputs": [
    {
     "data": {
      "text/plain": [
       "'2022 came to a celebratory end for BTS, especially member J-Hope, who was in New York, making another fabulous display of his skills. While away from the members, he seemed to have enjoyed it to the fullest with a solo performance at Dick Clark’s New Year’s Rockin’ Eve where he did a live stage of 3 songs, solo track ‘= (Equal Sign)’, ‘Chicken Noodle Soup’ his collaboration track with Becky G, and BTS’ ‘Butter’ (Holiday Remix). He officially became only the second South Korean soloist to perform at the event, following PSY. This was also J-Hope’s third time at Dick Clark’s New Year’s Rockin’ Eve after group stages with BTS in 2017 and 2019. J-Hope’s live. After returning from Times Square where he performed as the penultimate act alongside multiple other singers from around the world and spoke to Ryan Seacrest, the host of the show, J-Hope was back at his hotel room and turned on a live broadcast to speak with his fans. As they congratulated him on his sparkling performance, being the perfectionist that he is, J-Hope expressed his sadness about being unable to use his voice to the fullest and talked about the slipping incident due to the rainy weather during his rehearsal stage. J-Hope on other BTS members’ New Year wishes. As soon as it turned 12, and the New Year began in South Korea, BTS members Jungkook, Jimin, and V took to the fan community platform Weverse to share their wishes with the fans as well as discuss their plans for the coming year. Jungkook and V kept it brief, wishing for a successful and happy year ahead while Jimin wrote a big letter to his fans about the feelings he had seemingly bottled for a long time about his wishes to release new music soon for which he has been meeting up with composers. Thousands of miles away, member J-Hope was his cheeky self as he unleashed all his love for his fellow BTS members. He began commenting ‘love you’ on their posts with cute words and received laughs from them in return. Jin’s call to J-Hope. On being asked about BTS’ oldest member Jin who became the first from the group to enlist in the military on December 13, J-Hope recalled how he was called by the member with a different phone number and almost missed it. J-Hope said, “Right before I was about to sleep on the 31st, I got a call from Jin and asked him how he was doing to which he said J-Hope, pick up your phone. I told him I did not know this number, how would I know it was his?”. The ‘Arson’ hitmaker spoke with a smile on his face about how he felt happy hearing Jin’s voice. It comforted him and J-Hope mentioned how he remembered all those moments he spent with Jin. He assured the fans by saying that Jin seemed to be healthy and doing well in the military. So in place of Jin, he shared that he was well and asked the fans to not worry. The lovely duo, BTS’ Jin and J-Hope nicknamed 2seok have always lightened the fans’ hearts with this interaction. https://twitter com/nightstar1201/status/1609428759454822401Jimin X Taeyang. BTS member Jimin and BIGBANG member Taeyang are a collaboration nobody would have expected. However, in December 2022, it was reported by industry officials that the two are working together on a release that will soon be revealed to the world. To this, Taeyang’s then-agency, YG Entertainment, which he has since departed, replied by saying that they cannot confirm anything at the moment and asked fans to anticipate Taeyang’s activities. On January 1, Taeyang who is currently a free agent, not having signed with anyone for his solo activities as he continues to be with YG Entertainment for any content related to BIGBANG, shared a rare update on his Instagram account. 2 photos were shared with a caption of the hashtag #2023. In black and white, 2 people could be seen in the photos, their backs to the camera. While one could easily be spotted as Taeyang himself, the other one was not tagged. Fans went into action and soon began investigating every detail of the photo. The other person seemed to be Jimin, as his hands, fluffy hair, and earrings seem to match the BTS member. Though no official announcement was made from either side, it seems that the singers have decided to give a green signal from their ends. Taeyang is rumoured to have been preparing for a January 2023 comeback so it seems as though we can expect the reports any time now. Once confirmed, this could very well be the biggest release of the year and one of the most hyped collaborations in K-pop history!. Meanwhile, BIGBANG’s G-Dragon also announced that he is working on an album and hopes to release it in 2023. Stay updated with the latest Hallyu news on: Instagram, YouTube, Twitter, Facebook and Snapchat. ALSO READ: BTS’ J-Hope, TXT wow at Dick Clark’s New Year’s Rockin’ Eve: 5 highlights from their stages.'"
      ]
     },
     "execution_count": 27,
     "metadata": {},
     "output_type": "execute_result"
    }
   ],
   "source": [
    "text = removingContractions(text)\n",
    "text"
   ]
  },
  {
   "cell_type": "markdown",
   "id": "6bba96a4",
   "metadata": {},
   "source": [
    "## 2.8 Till here combining all the process into a single function"
   ]
  },
  {
   "cell_type": "code",
   "execution_count": 28,
   "id": "463b78ec",
   "metadata": {},
   "outputs": [],
   "source": [
    "def initial_preprocessing(s):\n",
    "    s = removeHTMLTagsAndEntities(s)\n",
    "    s = addingFullstops(s)\n",
    "    s = removingContractions(s)\n",
    "    return s"
   ]
  },
  {
   "cell_type": "code",
   "execution_count": 29,
   "id": "6d22b7fe",
   "metadata": {},
   "outputs": [
    {
     "data": {
      "text/plain": [
       "'2022 came to a celebratory end for BTS, especially member J-Hope, who was in New York, making another fabulous display of his skills.While away from the members, he seemed to have enjoyed it to the fullest with a solo performance at Dick Clark’s New Year’s Rockin’ Eve where he did a live stage of 3 songs, solo track ‘= (Equal Sign)’, ‘Chicken Noodle Soup’ his collaboration track with Becky G, and BTS’ ‘Butter’ (Holiday Remix).He officially became only the second South Korean soloist to perform at the event, following PSY.This was also J-Hope’s third time at Dick Clark’s New Year’s Rockin’ Eve after group stages with BTS in 2017 and 2019 .J-Hope’s live.After returning from Times Square where he performed as the penultimate act alongside multiple other singers from around the world and spoke to Ryan Seacrest, the host of the show, J-Hope was back at his hotel room and turned on a live broadcast to speak with his fans.As they congratulated him on his sparkling performance, being the perfectionist that he is, J-Hope expressed his sadness about being unable to use his voice to the fullest and talked about the slipping incident due to the rainy weather during his rehearsal stage..J-Hope on other BTS members’ New Year wishes.As soon as it turned 12, and the New Year began in South Korea, BTS members Jungkook, Jimin, and V took to the fan community platform Weverse to share their wishes with the fans as well as discuss their plans for the coming year.Jungkook and V kept it brief, wishing for a successful and happy year ahead while Jimin wrote a big letter to his fans about the feelings he had seemingly bottled for a long time about his wishes to release new music soon for which he has been meeting up with composers .Thousands of miles away, member J-Hope was his cheeky self as he unleashed all his love for his fellow BTS members.He began commenting ‘love you’ on their posts with cute words and received laughs from them in return .Jin’s call to J-Hope.On being asked about BTS’ oldest member Jin who became the first from the group to enlist in the military on December 13, J-Hope recalled how he was called by the member with a different phone number and almost missed it.J-Hope said, “Right before I was about to sleep on the 31st, I got a call from Jin and asked him how he was doing to which he said J-Hope, pick up your phone.I told him I did not know this number, how would I know it was his?”.The ‘Arson’ hitmaker spoke with a smile on his face about how he felt happy hearing Jin’s voice.It comforted him and J-Hope mentioned how he remembered all those moments he spent with Jin.He assured the fans by saying that Jin seemed to be healthy and doing well in the military.So in place of Jin, he shared that he was well and asked the fans to not worry.The lovely duo, BTS’ Jin and J-Hope nicknamed 2seok have always lightened the fans’ hearts with this interaction .https://twitter com/nightstar1201/status/1609428759454822401Jimin X Taeyang.BTS member Jimin and BIGBANG member Taeyang are a collaboration nobody would have expected.However, in December 2022, it was reported by industry officials that the two are working together on a release that will soon be revealed to the world.To this, Taeyang’s then-agency, YG Entertainment, which he has since departed, replied by saying that they cannot confirm anything at the moment and asked fans to anticipate Taeyang’s activities..On January 1, Taeyang who is currently a free agent, not having signed with anyone for his solo activities as he continues to be with YG Entertainment for any content related to BIGBANG, shared a rare update on his Instagram account.2 photos were shared with a caption of the hashtag #2023.In black and white, 2 people could be seen in the photos, their backs to the camera.While one could easily be spotted as Taeyang himself, the other one was not tagged....Fans went into action and soon began investigating every detail of the photo.The other person seemed to be Jimin, as his hands, fluffy hair, and earrings seem to match the BTS member.Though no official announcement was made from either side, it seems that the singers have decided to give a green signal from their ends.Taeyang is rumoured to have been preparing for a January 2023 comeback so it seems as though we can expect the reports any time now.Once confirmed, this could very well be the biggest release of the year and one of the most hyped collaborations in K-pop history!.Meanwhile, BIGBANG’s G-Dragon also announced that he is working on an album and hopes to release it in 2023 .Stay updated with the latest Hallyu news on: Instagram, YouTube, Twitter, Facebook and Snapchat.ALSO READ: BTS’ J-Hope, TXT wow at Dick Clark’s New Year’s Rockin’ Eve: 5 highlights from their stages'"
      ]
     },
     "execution_count": 29,
     "metadata": {},
     "output_type": "execute_result"
    }
   ],
   "source": [
    "initial_preprocessing(df1['content'].iloc[369])"
   ]
  },
  {
   "cell_type": "code",
   "execution_count": 30,
   "id": "7446fcac",
   "metadata": {},
   "outputs": [
    {
     "data": {
      "text/plain": [
       "'After reaching his hotel in the city, RM revealed that his stay would be for four days and added that he would step out for dinner. As he sat at a roadside open-air restaurant, RM feasted on beer, burgers and fries. He said, \"I am starving right now. I am out to grab some food. It is much quieter than I expected and feels like a rural town. I like the familiar atmosphere.\" RM attended Art Basel and explained on camera the details of the art fair. He also gave a glimpse as he had noodles and beer which was followed by soup noodles and wrap. Showing the pattern of a ping pong table, RM said, \"The table looks like our (BTS) symbol.\" He also spoke about the art pieces as he viewed them. After that, RM took a tram to visit the Foundation Beyeler, a museum. He later took a walk through the city. On his third day, RM visited the Kunstmuseum Basel, the Vitra Design Museum and the gallery. As he walked around, RM showed a chair to his fans and said, \"I have breaking news for you guys. Coldplay\\'s Chris Martin made a chair and it is displayed in the Vitra Design Museum. If you see this Chris, give me a call. You are amazing.\" RM next visited Lucerne and hiked to Mount Rigi. Recalling his previous visit to Lucerne, RM added, \"I remember the day of crossing that bridge and buying souvenirs.\" He was also reminded of Bon Voyage, a reality show featuring BTS members RM, Jin, Suga, J-Hope, Jimin, V and Jungkook. Speaking to the camera, RM said, \"I rode the SSB train to Lucerne, rode a boat, rode the mountain train, walked down the track road, rode the cable cars, and now I am on a boat planning to go ride the SSB again.\" RM\\'s travel in Switzerland ended with a visit to the Museum Tinguely. Next, RM flew to Paris to attend the Pinault Collection and to visit Musee d\\'Orsay. He then went to Centre Georges-Pompidou and Orsay Museum. RM\\'s vlog ended with him enjoying a Korean meal and then heading back to Seoul.'"
      ]
     },
     "execution_count": 30,
     "metadata": {},
     "output_type": "execute_result"
    }
   ],
   "source": [
    "initial_preprocessing(df1['content'].iloc[0])"
   ]
  },
  {
   "cell_type": "markdown",
   "id": "8fa15ad6",
   "metadata": {},
   "source": [
    "## 2.9 Removing the punctuations and Stopwords and coverting entire sentence into lower case"
   ]
  },
  {
   "cell_type": "code",
   "execution_count": 31,
   "id": "397c52cd",
   "metadata": {},
   "outputs": [],
   "source": [
    "from nltk.corpus import stopwords"
   ]
  },
  {
   "cell_type": "code",
   "execution_count": 32,
   "id": "35b914e8",
   "metadata": {},
   "outputs": [
    {
     "name": "stdout",
     "output_type": "stream",
     "text": [
      "['i', 'me', 'my', 'myself', 'we', 'our', 'ours', 'ourselves', 'you', \"you're\", \"you've\", \"you'll\", \"you'd\", 'your', 'yours', 'yourself', 'yourselves', 'he', 'him', 'his', 'himself', 'she', \"she's\", 'her', 'hers', 'herself', 'it', \"it's\", 'its', 'itself', 'they', 'them', 'their', 'theirs', 'themselves', 'what', 'which', 'who', 'whom', 'this', 'that', \"that'll\", 'these', 'those', 'am', 'is', 'are', 'was', 'were', 'be', 'been', 'being', 'have', 'has', 'had', 'having', 'do', 'does', 'did', 'doing', 'a', 'an', 'the', 'and', 'but', 'if', 'or', 'because', 'as', 'until', 'while', 'of', 'at', 'by', 'for', 'with', 'about', 'against', 'between', 'into', 'through', 'during', 'before', 'after', 'above', 'below', 'to', 'from', 'up', 'down', 'in', 'out', 'on', 'off', 'over', 'under', 'again', 'further', 'then', 'once', 'here', 'there', 'when', 'where', 'why', 'how', 'all', 'any', 'both', 'each', 'few', 'more', 'most', 'other', 'some', 'such', 'no', 'nor', 'not', 'only', 'own', 'same', 'so', 'than', 'too', 'very', 's', 't', 'can', 'will', 'just', 'don', \"don't\", 'should', \"should've\", 'now', 'd', 'll', 'm', 'o', 're', 've', 'y', 'ain', 'aren', \"aren't\", 'couldn', \"couldn't\", 'didn', \"didn't\", 'doesn', \"doesn't\", 'hadn', \"hadn't\", 'hasn', \"hasn't\", 'haven', \"haven't\", 'isn', \"isn't\", 'ma', 'mightn', \"mightn't\", 'mustn', \"mustn't\", 'needn', \"needn't\", 'shan', \"shan't\", 'shouldn', \"shouldn't\", 'wasn', \"wasn't\", 'weren', \"weren't\", 'won', \"won't\", 'wouldn', \"wouldn't\"]\n"
     ]
    }
   ],
   "source": [
    "engStopwords = stopwords.words(\"english\")\n",
    "print(engStopwords)"
   ]
  },
  {
   "cell_type": "code",
   "execution_count": 33,
   "id": "6f89e27a",
   "metadata": {},
   "outputs": [],
   "source": [
    "def removePunctuations(s):\n",
    "    words = []\n",
    "    s = re.sub(r\"[<>()|&©ø\\[\\]\\'\\\",;?~*!]\", ' ', str(s))\n",
    "    for i in s.split(\" \"):\n",
    "        if i not in engStopwords:\n",
    "            words.append(i)\n",
    "    s = \" \".join(words)\n",
    "    return s"
   ]
  },
  {
   "cell_type": "code",
   "execution_count": 34,
   "id": "fcbe0d8e",
   "metadata": {},
   "outputs": [
    {
     "data": {
      "text/plain": [
       "'2022 came celebratory end BTS  especially member J-Hope  New York  making another fabulous display skills. While away members  seemed enjoyed fullest solo performance Dick Clark’s New Year’s Rockin’ Eve live stage 3 songs  solo track ‘=  Equal Sign ’  ‘Chicken Noodle Soup’ collaboration track Becky G  BTS’ ‘Butter’  Holiday Remix . He officially became second South Korean soloist perform event  following PSY. This also J-Hope’s third time Dick Clark’s New Year’s Rockin’ Eve group stages BTS 2017 2019. J-Hope’s live. After returning Times Square performed penultimate act alongside multiple singers around world spoke Ryan Seacrest  host show  J-Hope back hotel room turned live broadcast speak fans. As congratulated sparkling performance  perfectionist  J-Hope expressed sadness unable use voice fullest talked slipping incident due rainy weather rehearsal stage. J-Hope BTS members’ New Year wishes. As soon turned 12  New Year began South Korea  BTS members Jungkook  Jimin  V took fan community platform Weverse share wishes fans well discuss plans coming year. Jungkook V kept brief  wishing successful happy year ahead Jimin wrote big letter fans feelings seemingly bottled long time wishes release new music soon meeting composers. Thousands miles away  member J-Hope cheeky self unleashed love fellow BTS members. He began commenting ‘love you’ posts cute words received laughs return. Jin’s call J-Hope. On asked BTS’ oldest member Jin became first group enlist military December 13  J-Hope recalled called member different phone number almost missed it. J-Hope said  “Right I sleep 31st  I got call Jin asked said J-Hope  pick phone. I told I know number  would I know ”. The ‘Arson’ hitmaker spoke smile face felt happy hearing Jin’s voice. It comforted J-Hope mentioned remembered moments spent Jin. He assured fans saying Jin seemed healthy well military. So place Jin  shared well asked fans worry. The lovely duo  BTS’ Jin J-Hope nicknamed 2seok always lightened fans’ hearts interaction. https://twitter com/nightstar1201/status/1609428759454822401Jimin X Taeyang. BTS member Jimin BIGBANG member Taeyang collaboration nobody would expected. However  December 2022  reported industry officials two working together release soon revealed world. To  Taeyang’s then-agency  YG Entertainment  since departed  replied saying cannot confirm anything moment asked fans anticipate Taeyang’s activities. On January 1  Taeyang currently free agent  signed anyone solo activities continues YG Entertainment content related BIGBANG  shared rare update Instagram account. 2 photos shared caption hashtag #2023. In black white  2 people could seen photos  backs camera. While one could easily spotted Taeyang  one tagged. Fans went action soon began investigating every detail photo. The person seemed Jimin  hands  fluffy hair  earrings seem match BTS member. Though official announcement made either side  seems singers decided give green signal ends. Taeyang rumoured preparing January 2023 comeback seems though expect reports time now. Once confirmed  could well biggest release year one hyped collaborations K-pop history . Meanwhile  BIGBANG’s G-Dragon also announced working album hopes release 2023. Stay updated latest Hallyu news on: Instagram  YouTube  Twitter  Facebook Snapchat. ALSO READ: BTS’ J-Hope  TXT wow Dick Clark’s New Year’s Rockin’ Eve: 5 highlights stages.'"
      ]
     },
     "execution_count": 34,
     "metadata": {},
     "output_type": "execute_result"
    }
   ],
   "source": [
    "removePunctuations(text)"
   ]
  },
  {
   "cell_type": "markdown",
   "id": "def54c7f",
   "metadata": {},
   "source": [
    "## 2.10 Trying to combine all of these pre-processing in a single function "
   ]
  },
  {
   "cell_type": "code",
   "execution_count": 35,
   "id": "9c6cb095",
   "metadata": {},
   "outputs": [],
   "source": [
    "def preprocessingRow(s):\n",
    "    s = BeautifulSoup(BeautifulSoup(s, \"lxml\").text, \"html.parser\")\n",
    "    s = re.sub(\"\\xa0\",' ', str(s))\n",
    "    s = re.sub(\"(\\\\n)+\", '.', str(s))\n",
    "    s = re.sub(\"(\\\\t)+\", '', str(s))\n",
    "    s = re.sub(\"   \", '', str(s))\n",
    "    s = re.sub(\"(  )\",'.', str(s))\n",
    "    modified_sentences = []\n",
    "    sentences = s.split(\".\")\n",
    "    for i in sentences:\n",
    "        i = i.strip()\n",
    "        if len(i) != 0:\n",
    "            i += '.'\n",
    "            modified_sentences.append(i)\n",
    "    s = \" \". join(modified_sentences)\n",
    "    words = []\n",
    "    for i in s.split(\" \"):\n",
    "        words.append(contractions.fix(i))\n",
    "    s = \" \".join(words)\n",
    "    words = []\n",
    "    s = re.sub(r\"[<>()|&©ø\\[\\]\\'\\\",;?~*!]\", ' ', str(s)).lower()\n",
    "    for i in s.split(\" \"):\n",
    "        if i not in engStopwords and i not in words:\n",
    "            words.append(i)\n",
    "    s = \" \".join(words)\n",
    "    s = re.sub(' +', ' ', s)\n",
    "    return s"
   ]
  },
  {
   "cell_type": "code",
   "execution_count": 36,
   "id": "0a33be3c",
   "metadata": {},
   "outputs": [
    {
     "data": {
      "text/plain": [
       "'2022 came celebratory end bts especially member j-hope new york making another fabulous display skills. away members seemed enjoyed fullest solo performance dick clark’s year’s rockin’ eve live stage 3 songs track ‘= equal sign ’ ‘chicken noodle soup’ collaboration becky g bts’ ‘butter’ holiday remix . officially became second south korean soloist perform event following psy. also j-hope’s third time group stages 2017 2019. live. returning times square performed penultimate act alongside multiple singers around world spoke ryan seacrest host show back hotel room turned broadcast speak fans. congratulated sparkling perfectionist expressed sadness unable use voice talked slipping incident due rainy weather rehearsal stage. members’ year wishes. soon 12 began korea jungkook jimin v took fan community platform weverse share wishes fans well discuss plans coming year. kept brief wishing successful happy ahead wrote big letter feelings seemingly bottled long release music meeting composers. thousands miles cheeky self unleashed love fellow members. commenting ‘love you’ posts cute words received laughs return. jin’s call j-hope. asked oldest jin first enlist military december 13 recalled called different phone number almost missed it. said “right sleep 31st got pick phone. told know would ”. ‘arson’ hitmaker smile face felt hearing voice. comforted mentioned remembered moments spent jin. assured saying healthy military. place shared worry. lovely duo nicknamed 2seok always lightened fans’ hearts interaction. https://twitter com/nightstar1201/status/1609428759454822401jimin x taeyang. bigbang taeyang nobody expected. however reported industry officials two working together revealed world. taeyang’s then-agency yg entertainment since departed replied cannot confirm anything moment anticipate activities. january 1 currently free agent signed anyone activities continues content related rare update instagram account. 2 photos caption hashtag #2023. black white people could seen backs camera. one easily spotted tagged. went action investigating every detail photo. person hands fluffy hair earrings seem match member. though official announcement made either side seems decided give green signal ends. rumoured preparing 2023 comeback expect reports now. confirmed biggest hyped collaborations k-pop history meanwhile bigbang’s g-dragon announced album hopes 2023. stay updated latest hallyu news on: youtube twitter facebook snapchat. read: txt wow eve: 5 highlights stages.'"
      ]
     },
     "execution_count": 36,
     "metadata": {},
     "output_type": "execute_result"
    }
   ],
   "source": [
    "preprocessingRow(df1['content'].iloc[369])"
   ]
  },
  {
   "cell_type": "markdown",
   "id": "97f3bf47",
   "metadata": {},
   "source": [
    "### Although, I was not able to figure out how to remove a link because, I wasn't able to find any regular expression for removing it. I did research on link removal fuctions through BeautifulSoup but wasnt able to do it."
   ]
  },
  {
   "cell_type": "markdown",
   "id": "9fe4041d",
   "metadata": {},
   "source": [
    "### The above function will work perfectly when provided row by row input but at that time we cannot utilize the multiprocessing functions of NLP. Hence creating same function, but this time we shall pass an entire column rather than a row to function."
   ]
  },
  {
   "cell_type": "code",
   "execution_count": 37,
   "id": "1e590798",
   "metadata": {},
   "outputs": [],
   "source": [
    "from tqdm.auto import tqdm"
   ]
  },
  {
   "cell_type": "code",
   "execution_count": 38,
   "id": "b62c2663",
   "metadata": {},
   "outputs": [],
   "source": [
    "def preprocessingColumn(col):\n",
    "    for row in tqdm(col, total=col.shape[0]):\n",
    "        cleanedData = preprocessingRow(row)\n",
    "        yield cleanedData"
   ]
  },
  {
   "cell_type": "code",
   "execution_count": 39,
   "id": "b9acdd25",
   "metadata": {},
   "outputs": [
    {
     "data": {
      "text/plain": [
       "<generator object preprocessingColumn at 0x00000179CE7E7DD0>"
      ]
     },
     "execution_count": 39,
     "metadata": {},
     "output_type": "execute_result"
    }
   ],
   "source": [
    "preprocessingColumn(df1['content']) # will result in a Generator object"
   ]
  },
  {
   "cell_type": "markdown",
   "id": "f717b29d",
   "metadata": {},
   "source": [
    "## 2.11 Storing cleaned data in the dataframe"
   ]
  },
  {
   "cell_type": "code",
   "execution_count": 40,
   "id": "5bcc6946",
   "metadata": {},
   "outputs": [],
   "source": [
    "cleanedContent = preprocessingColumn(df1['content'])"
   ]
  },
  {
   "cell_type": "markdown",
   "id": "d3c5ad43",
   "metadata": {},
   "source": [
    "### Using spacy to fasten the process of Data Pre-processing"
   ]
  },
  {
   "cell_type": "code",
   "execution_count": 41,
   "id": "15a8655e",
   "metadata": {},
   "outputs": [],
   "source": [
    "import spacy\n",
    "nlp = spacy.load('en_core_web_sm', disable=['ner', 'parser'])"
   ]
  },
  {
   "cell_type": "markdown",
   "id": "7fa74278",
   "metadata": {},
   "source": [
    "### Perorming Data Pre-processing on the Dataframe's content column"
   ]
  },
  {
   "cell_type": "code",
   "execution_count": 42,
   "id": "0f223e34",
   "metadata": {},
   "outputs": [
    {
     "data": {
      "application/vnd.jupyter.widget-view+json": {
       "model_id": "6f289b8ffa94497aa5b05808a2415b92",
       "version_major": 2,
       "version_minor": 0
      },
      "text/plain": [
       "  0%|          | 0/806 [00:00<?, ?it/s]"
      ]
     },
     "metadata": {},
     "output_type": "display_data"
    }
   ],
   "source": [
    "cleanedText = [str(doc) for doc in nlp.pipe(cleanedContent, batch_size=5000, n_process=-1)]"
   ]
  },
  {
   "cell_type": "code",
   "execution_count": 43,
   "id": "96eba70f",
   "metadata": {},
   "outputs": [
    {
     "data": {
      "text/plain": [
       "'reaching hotel city rm revealed stay would four days added step dinner. sat roadside open-air restaurant feasted beer burgers fries. said starving right now. grab food. much quieter expected feels like rural town. familiar atmosphere. attended art basel explained camera details fair. also gave glimpse noodles followed soup wrap. showing pattern ping pong table looks bts symbol. spoke pieces viewed them. took tram visit foundation beyeler museum. later walk city. third day visited kunstmuseum vitra design museum gallery. walked around showed chair fans breaking news guys. coldplay chris martin made displayed see give call. amazing. next lucerne hiked mount rigi. recalling previous remember crossing bridge buying souvenirs. reminded bon voyage reality show featuring members jin suga j-hope jimin v jungkook. speaking rode ssb train boat mountain track road cable cars planning go ride again. travel switzerland ended tinguely. flew paris attend pinault collection musee orsay. went centre georges-pompidou orsay vlog enjoying korean meal heading back seoul.'"
      ]
     },
     "execution_count": 43,
     "metadata": {},
     "output_type": "execute_result"
    }
   ],
   "source": [
    "cleanedText[0]"
   ]
  },
  {
   "cell_type": "code",
   "execution_count": 44,
   "id": "392070f1",
   "metadata": {},
   "outputs": [
    {
     "data": {
      "text/plain": [
       "'2022 came celebratory end bts especially member j-hope new york making another fabulous display skills. away members seemed enjoyed fullest solo performance dick clark’s year’s rockin’ eve live stage 3 songs track ‘= equal sign ’ ‘chicken noodle soup’ collaboration becky g bts’ ‘butter’ holiday remix . officially became second south korean soloist perform event following psy. also j-hope’s third time group stages 2017 2019. live. returning times square performed penultimate act alongside multiple singers around world spoke ryan seacrest host show back hotel room turned broadcast speak fans. congratulated sparkling perfectionist expressed sadness unable use voice talked slipping incident due rainy weather rehearsal stage. members’ year wishes. soon 12 began korea jungkook jimin v took fan community platform weverse share wishes fans well discuss plans coming year. kept brief wishing successful happy ahead wrote big letter feelings seemingly bottled long release music meeting composers. thousands miles cheeky self unleashed love fellow members. commenting ‘love you’ posts cute words received laughs return. jin’s call j-hope. asked oldest jin first enlist military december 13 recalled called different phone number almost missed it. said “right sleep 31st got pick phone. told know would ”. ‘arson’ hitmaker smile face felt hearing voice. comforted mentioned remembered moments spent jin. assured saying healthy military. place shared worry. lovely duo nicknamed 2seok always lightened fans’ hearts interaction. https://twitter com/nightstar1201/status/1609428759454822401jimin x taeyang. bigbang taeyang nobody expected. however reported industry officials two working together revealed world. taeyang’s then-agency yg entertainment since departed replied cannot confirm anything moment anticipate activities. january 1 currently free agent signed anyone activities continues content related rare update instagram account. 2 photos caption hashtag #2023. black white people could seen backs camera. one easily spotted tagged. went action investigating every detail photo. person hands fluffy hair earrings seem match member. though official announcement made either side seems decided give green signal ends. rumoured preparing 2023 comeback expect reports now. confirmed biggest hyped collaborations k-pop history meanwhile bigbang’s g-dragon announced album hopes 2023. stay updated latest hallyu news on: youtube twitter facebook snapchat. read: txt wow eve: 5 highlights stages.'"
      ]
     },
     "execution_count": 44,
     "metadata": {},
     "output_type": "execute_result"
    }
   ],
   "source": [
    "cleanedText[369]"
   ]
  },
  {
   "cell_type": "code",
   "execution_count": 45,
   "id": "ff67ab2b",
   "metadata": {},
   "outputs": [
    {
     "data": {
      "text/plain": [
       "806"
      ]
     },
     "execution_count": 45,
     "metadata": {},
     "output_type": "execute_result"
    }
   ],
   "source": [
    "len(cleanedText)"
   ]
  },
  {
   "cell_type": "markdown",
   "id": "bfe19cc4",
   "metadata": {},
   "source": [
    "## 2.12 Checking for any errors in the process of data cleaning, such that out code might have skipped processing an entire row"
   ]
  },
  {
   "cell_type": "code",
   "execution_count": 46,
   "id": "c593e313",
   "metadata": {},
   "outputs": [
    {
     "name": "stdout",
     "output_type": "stream",
     "text": [
      "No error, in process of Data pre-processing\n"
     ]
    }
   ],
   "source": [
    "flag = 1\n",
    "for i in range(len(cleanedText)):\n",
    "    if len(cleanedText[i]) == 0:\n",
    "        print(f\"Error at: {i}\")\n",
    "        flag = 0\n",
    "if flag == 1:\n",
    "    print(\"No error, in process of Data pre-processing\")"
   ]
  },
  {
   "cell_type": "markdown",
   "id": "06f8d7b7",
   "metadata": {},
   "source": [
    "# 3. Trying To Generate Summary For Any One Random Row"
   ]
  },
  {
   "cell_type": "code",
   "execution_count": 47,
   "id": "6732d410",
   "metadata": {},
   "outputs": [],
   "source": [
    "from gensim.models import Word2Vec\n",
    "from scipy import spatial\n",
    "import networkx as nx"
   ]
  },
  {
   "cell_type": "code",
   "execution_count": 48,
   "id": "dae2a206",
   "metadata": {},
   "outputs": [
    {
     "data": {
      "text/plain": [
       "'BTS’ oldest member Jin went solo after J-Hope and made his official debut with a single album. The Astronaut has been meaningful for multiple reasons for the group as well as the fans who have welcomed the release with warm words and moist eyes..Music charts.The song which came as a result of Jin working with Coldplay for the second time following ‘My Universe’, debuted on the Billboard Hot100 chart at No. 51. He also tied with PSY for a record on United Kingdom’s Official Official Singles Chart for grabbing the 61st spot in the week after its release. His latest achievement comes with selling 1,024,382 copies of The Astronaut according to the numbers released by Circle Chart (earlier known as Gaon Chart)..Third million-seller.The BTS member is only the third soloist in the history of the music chart to have recorded over a million copies sold of his album. Jin follows EXO member Baekhyun and trot-ballad singer Lim Young Woong on the list. Becoming a million seller is a massive feat for the BTS member who is expected to enlist for his mandatory military service soon..Jin’s military service.The group’s national duty which had become a global discussion received an update as their agency announced the member’s decision to enlist. Jin became the first member to apply for the cancellation of his delay notice and will possibly enlist before his upcoming 30th birthday on December 4. He will also possibly be at the front line for his basic military training according to his reply to a fan on Weverse recently..Stay updated with the latest Hallyu news on: Instagram, YouTube, Twitter, Facebook and Snapchat.'"
      ]
     },
     "execution_count": 48,
     "metadata": {},
     "output_type": "execute_result"
    }
   ],
   "source": [
    "text = initial_preprocessing(df1['content'].iloc[405])\n",
    "text"
   ]
  },
  {
   "cell_type": "code",
   "execution_count": 49,
   "id": "6aa464c2",
   "metadata": {},
   "outputs": [
    {
     "data": {
      "text/plain": [
       "['BTS’ oldest member Jin went solo after J-Hope and made his official debut with a single album.',\n",
       " 'The Astronaut has been meaningful for multiple reasons for the group as well as the fans who have welcomed the release with warm words and moist eyes.',\n",
       " 'Music charts.',\n",
       " 'The song which came as a result of Jin working with Coldplay for the second time following ‘My Universe’, debuted on the Billboard Hot100 chart at No.',\n",
       " '51.',\n",
       " 'He also tied with PSY for a record on United Kingdom’s Official Official Singles Chart for grabbing the 61st spot in the week after its release.',\n",
       " 'His latest achievement comes with selling 1,024,382 copies of The Astronaut according to the numbers released by Circle Chart (earlier known as Gaon Chart).',\n",
       " 'Third million-seller.',\n",
       " 'The BTS member is only the third soloist in the history of the music chart to have recorded over a million copies sold of his album.',\n",
       " 'Jin follows EXO member Baekhyun and trot-ballad singer Lim Young Woong on the list.',\n",
       " 'Becoming a million seller is a massive feat for the BTS member who is expected to enlist for his mandatory military service soon.',\n",
       " 'Jin’s military service.',\n",
       " 'The group’s national duty which had become a global discussion received an update as their agency announced the member’s decision to enlist.',\n",
       " 'Jin became the first member to apply for the cancellation of his delay notice and will possibly enlist before his upcoming 30th birthday on December 4.',\n",
       " 'He will also possibly be at the front line for his basic military training according to his reply to a fan on Weverse recently.',\n",
       " 'Stay updated with the latest Hallyu news on: Instagram, YouTube, Twitter, Facebook and Snapchat.']"
      ]
     },
     "execution_count": 49,
     "metadata": {},
     "output_type": "execute_result"
    }
   ],
   "source": [
    "sentences = [i.strip()+\".\" for i in text.split(\".\") if len(i) != 0]\n",
    "sentences"
   ]
  },
  {
   "cell_type": "code",
   "execution_count": 50,
   "id": "a5574f15",
   "metadata": {},
   "outputs": [],
   "source": [
    "sentence_tokens = []\n",
    "for sentence in sentences:\n",
    "    for word in preprocessingRow(sentence).split(\" \"):\n",
    "        if word not in sentence_tokens:\n",
    "            sentence_tokens.append(word)"
   ]
  },
  {
   "cell_type": "code",
   "execution_count": 51,
   "id": "1532cfc6",
   "metadata": {},
   "outputs": [],
   "source": [
    "w2v = Word2Vec(sentence_tokens, vector_size=1, min_count = 1, epochs = 1000)\n",
    "sentence_embeddings = [[w2v.wv[word][0] for word in words] for words in sentence_tokens]\n",
    "max_len = max([len(tokens) for tokens in sentence_tokens])\n",
    "sentence_embeddings = [np.pad(embedding,(0,max_len-len(embedding)),'constant') for embedding in sentence_embeddings]"
   ]
  },
  {
   "cell_type": "code",
   "execution_count": 52,
   "id": "4b508360",
   "metadata": {},
   "outputs": [],
   "source": [
    "similarity_matrix = np.zeros([len(sentence_tokens), len(sentence_tokens)])\n",
    "for i,row_embedding in enumerate(sentence_embeddings):\n",
    "    for j,column_embedding in enumerate(sentence_embeddings):\n",
    "        similarity_matrix[i][j]=1-spatial.distance.cosine(row_embedding,column_embedding)"
   ]
  },
  {
   "cell_type": "code",
   "execution_count": 53,
   "id": "13d62861",
   "metadata": {},
   "outputs": [],
   "source": [
    "nx_graph = nx.from_numpy_array(similarity_matrix)\n",
    "scores = nx.pagerank(nx_graph)"
   ]
  },
  {
   "cell_type": "code",
   "execution_count": 54,
   "id": "c9509940",
   "metadata": {},
   "outputs": [],
   "source": [
    "total_summary_sentences = len(sentences) // 4\n",
    "top_sentence={sentence:scores[index] for index,sentence in enumerate(sentences)}\n",
    "top=dict(sorted(top_sentence.items(), key=lambda x: x[1], reverse=True)[:total_summary_sentences])"
   ]
  },
  {
   "cell_type": "code",
   "execution_count": 55,
   "id": "e8247220",
   "metadata": {},
   "outputs": [
    {
     "name": "stdout",
     "output_type": "stream",
     "text": [
      "The Astronaut has been meaningful for multiple reasons for the group as well as the fans who have welcomed the release with warm words and moist eyes.Music charts.His latest achievement comes with selling 1,024,382 copies of The Astronaut according to the numbers released by Circle Chart (earlier known as Gaon Chart).Becoming a million seller is a massive feat for the BTS member who is expected to enlist for his mandatory military service soon.\n"
     ]
    }
   ],
   "source": [
    "summary = \"\"\n",
    "for sentence in sentences:\n",
    "    if sentence in top.keys():\n",
    "        summary += sentence\n",
    "print(summary)"
   ]
  },
  {
   "cell_type": "markdown",
   "id": "c3d9f0df",
   "metadata": {},
   "source": [
    "## 3.1 For below text:"
   ]
  },
  {
   "cell_type": "code",
   "execution_count": 56,
   "id": "d22ccc36",
   "metadata": {},
   "outputs": [
    {
     "data": {
      "text/plain": [
       "'BTS’ oldest member Jin went solo after J-Hope and made his official debut with a single album. The Astronaut has been meaningful for multiple reasons for the group as well as the fans who have welcomed the release with warm words and moist eyes..Music charts.The song which came as a result of Jin working with Coldplay for the second time following ‘My Universe’, debuted on the Billboard Hot100 chart at No. 51. He also tied with PSY for a record on United Kingdom’s Official Official Singles Chart for grabbing the 61st spot in the week after its release. His latest achievement comes with selling 1,024,382 copies of The Astronaut according to the numbers released by Circle Chart (earlier known as Gaon Chart)..Third million-seller.The BTS member is only the third soloist in the history of the music chart to have recorded over a million copies sold of his album. Jin follows EXO member Baekhyun and trot-ballad singer Lim Young Woong on the list. Becoming a million seller is a massive feat for the BTS member who is expected to enlist for his mandatory military service soon..Jin’s military service.The group’s national duty which had become a global discussion received an update as their agency announced the member’s decision to enlist. Jin became the first member to apply for the cancellation of his delay notice and will possibly enlist before his upcoming 30th birthday on December 4. He will also possibly be at the front line for his basic military training according to his reply to a fan on Weverse recently..Stay updated with the latest Hallyu news on: Instagram, YouTube, Twitter, Facebook and Snapchat.'"
      ]
     },
     "execution_count": 56,
     "metadata": {},
     "output_type": "execute_result"
    }
   ],
   "source": [
    "text"
   ]
  },
  {
   "cell_type": "markdown",
   "id": "4f63d4ad",
   "metadata": {},
   "source": [
    "## 3.2 We got summary as:"
   ]
  },
  {
   "cell_type": "code",
   "execution_count": 57,
   "id": "638286e9",
   "metadata": {},
   "outputs": [
    {
     "data": {
      "text/plain": [
       "'The Astronaut has been meaningful for multiple reasons for the group as well as the fans who have welcomed the release with warm words and moist eyes.Music charts.His latest achievement comes with selling 1,024,382 copies of The Astronaut according to the numbers released by Circle Chart (earlier known as Gaon Chart).Becoming a million seller is a massive feat for the BTS member who is expected to enlist for his mandatory military service soon.'"
      ]
     },
     "execution_count": 57,
     "metadata": {},
     "output_type": "execute_result"
    }
   ],
   "source": [
    "summary"
   ]
  },
  {
   "cell_type": "markdown",
   "id": "a0f1c9f4",
   "metadata": {},
   "source": [
    "# 4. Time To Implement It On Actual Dataframe"
   ]
  },
  {
   "cell_type": "code",
   "execution_count": 58,
   "id": "e5241b66",
   "metadata": {},
   "outputs": [],
   "source": [
    "def summarizerRow(s):\n",
    "    # Applying only the necessary Pre-processing\n",
    "    text = initial_preprocessing(s)\n",
    "    # print(\"1\")\n",
    "    \n",
    "    # Generating the tokens\n",
    "    sentences = [i.strip()+\".\" for i in text.split(\".\") if len(i) != 0]\n",
    "    sentence_tokens = [[word for word in preprocessingRow(sentence).split(\" \")] for sentence in sentences]\n",
    "    # print(\"2\")\n",
    "    \n",
    "    # Calculating the embedding for each word\n",
    "    w2v = Word2Vec(sentence_tokens, vector_size=1, min_count = 1, epochs = 1000)\n",
    "    sentence_embeddings = [[w2v.wv[word][0] for word in words] for words in sentence_tokens]\n",
    "    max_len = max([len(tokens) for tokens in sentence_tokens])\n",
    "    sentence_embeddings = [np.pad(embedding,(0,max_len-len(embedding)),'constant') for embedding in sentence_embeddings]\n",
    "    # print(\"3\")\n",
    "    \n",
    "    # Developing the similarity matrix based on cosine similarity\n",
    "    similarity_matrix = np.zeros([len(sentence_tokens), len(sentence_tokens)])\n",
    "    for i,row_embedding in enumerate(sentence_embeddings):\n",
    "        for j,column_embedding in enumerate(sentence_embeddings):\n",
    "            similarity_matrix[i][j]=1-spatial.distance.cosine(row_embedding,column_embedding)\n",
    "    # print(\"4\")\n",
    "    \n",
    "    # Implementing the TextRank\n",
    "    nx_graph = nx.from_numpy_array(similarity_matrix)\n",
    "    try:\n",
    "        scores = nx.pagerank(nx_graph,  max_iter=100000, tol=1.0e-2)\n",
    "\n",
    "        # Sorting out the importing sentences\n",
    "        total_summary_sentences = len(sentences) // 3\n",
    "        top_sentence={sentence:scores[index] for index,sentence in enumerate(sentences)}\n",
    "        top=dict(sorted(top_sentence.items(), key=lambda x: x[1], reverse=True)[:total_summary_sentences])\n",
    "\n",
    "        # Joining the most important sentences\n",
    "        summary = \"\"\n",
    "        for sentence in sentences:\n",
    "            if sentence in top.keys():\n",
    "                summary += sentence + \" \"\n",
    "        # print(\"5\")\n",
    "        return summary\n",
    "    except:\n",
    "        summary = \"\"\n",
    "        # print(\"6\")\n",
    "        return summary"
   ]
  },
  {
   "cell_type": "code",
   "execution_count": 59,
   "id": "687556c3",
   "metadata": {},
   "outputs": [
    {
     "name": "stdout",
     "output_type": "stream",
     "text": [
      "He said the reason why he wanted to write a song for them is because he believes that ARMYs are the reason why the group exists. The songwriting process to creating the melody, Jungkook spilled all kinds of details. The so-teok (sausage tteok) and fried chicken looked so good. He also did not let the tasks overcome his love for SUGA’s song ‘That That’ as he danced to it as well. He also mentioned doing a V-Live there, which was what led fans to know which member will be putting up what kind of vlog. \n"
     ]
    }
   ],
   "source": [
    "print(summarizerRow(df1['content'].iloc[402]))"
   ]
  },
  {
   "cell_type": "markdown",
   "id": "32b3b8f9",
   "metadata": {},
   "source": [
    "## 4.1 Developing a similar fuction column-wise"
   ]
  },
  {
   "cell_type": "code",
   "execution_count": 60,
   "id": "72bdd1c0",
   "metadata": {},
   "outputs": [],
   "source": [
    "def summarizerColumn(col):\n",
    "    for row in tqdm(col, total=col.shape[0]):\n",
    "        summary = summarizerRow(row)\n",
    "        yield summary"
   ]
  },
  {
   "cell_type": "code",
   "execution_count": 61,
   "id": "6a924796",
   "metadata": {},
   "outputs": [],
   "source": [
    "summaryGenerator = summarizerColumn(df1['content'])"
   ]
  },
  {
   "cell_type": "code",
   "execution_count": 62,
   "id": "7341500c",
   "metadata": {},
   "outputs": [
    {
     "data": {
      "application/vnd.jupyter.widget-view+json": {
       "model_id": "64ad825c0a11474fa3fe2bf36939f218",
       "version_major": 2,
       "version_minor": 0
      },
      "text/plain": [
       "  0%|          | 0/806 [00:00<?, ?it/s]"
      ]
     },
     "metadata": {},
     "output_type": "display_data"
    }
   ],
   "source": [
    "summary = [str(doc) for doc in nlp.pipe(summaryGenerator, batch_size=5000, n_process=-1)]"
   ]
  },
  {
   "cell_type": "code",
   "execution_count": 63,
   "id": "a2828a09",
   "metadata": {},
   "outputs": [
    {
     "data": {
      "text/plain": [
       "'As he sat at a roadside open-air restaurant, RM feasted on beer, burgers and fries. \" RM attended Art Basel and explained on camera the details of the art fair. He also gave a glimpse as he had noodles and beer which was followed by soup noodles and wrap. After that, RM took a tram to visit the Foundation Beyeler, a museum. As he walked around, RM showed a chair to his fans and said, \"I have breaking news for you guys. Coldplay\\'s Chris Martin made a chair and it is displayed in the Vitra Design Museum. \" RM next visited Lucerne and hiked to Mount Rigi. \" RM\\'s travel in Switzerland ended with a visit to the Museum Tinguely. '"
      ]
     },
     "execution_count": 63,
     "metadata": {},
     "output_type": "execute_result"
    }
   ],
   "source": [
    "summary[0]"
   ]
  },
  {
   "cell_type": "code",
   "execution_count": 64,
   "id": "1cce61b0",
   "metadata": {},
   "outputs": [
    {
     "data": {
      "text/plain": [
       "(806,)"
      ]
     },
     "execution_count": 64,
     "metadata": {},
     "output_type": "execute_result"
    }
   ],
   "source": [
    "df1['content'].shape"
   ]
  },
  {
   "cell_type": "code",
   "execution_count": 65,
   "id": "981f1f66",
   "metadata": {},
   "outputs": [
    {
     "data": {
      "text/plain": [
       "806"
      ]
     },
     "execution_count": 65,
     "metadata": {},
     "output_type": "execute_result"
    }
   ],
   "source": [
    "len(summary)"
   ]
  },
  {
   "cell_type": "code",
   "execution_count": 66,
   "id": "83b4848e",
   "metadata": {},
   "outputs": [
    {
     "data": {
      "text/plain": [
       "'BTS\\' eldest member Jin has shared pictures and a message for fans for the first time after he joined the South Korean military  Taking to Weverse on Wednesday Jin posted his pictures including selfies  In a photo, Jin is seen in his uniform as he stood with his arms on his sides  The singer also wore a mask  (Also Read | BTS’ Jin has a special message for fans: \\'I may not be by your side, but…\\')In a selfie, Jin looked at the camera giving fans a closer glimpse of his face  He also flashed the victory sign in another picture  Sharing the pictures, Jin wrote, \"I\\'m enjoying my life  I\\'m posting pictures after getting permission from the military  ARMY, be happy and take care \"Jin\\'s message and photos left the BTS ARMY emotional  A person wrote on Twitter, \"Even though he must be soo tired but still took permission from there & came to update us about himself & telling us to be happy & be well  I\\'m crying  I love you so much Jin \"\"Jin is proud of all the armys who waited until he posts  Let\\'s continue waiting and not spreading pics that are not posted by Jin,\" read a comment  \"All I\\'m doing right now is staring at these pictures and crying \" \"I missed him God I missed him so much  I hope you’re staying warm and healthy,\" said another fan Jin, whose full name is Kim Seok-jin, officially enlisted for duty on December 13, 2022  According to several reports, Jin is undergoing training at a boot camp of a front-line army division in Yeoncheon, 60 kilometres north of Seoul Earlier this month, Bangtan TV had shared a video message of Jin which was recorded during the filming of the Korean variety show, Running Man  In the video Jin had said, “Hello everyone, this is Jin of BTS  I won’t be a civilian by the time the video is out  But I am here in front of the camera, because I wanted to leave you something, even if it is just leaving a message \"He had also said, \"Whenever I am available I wish to share these videos with you  I may not be by your side, but I’ll go looking for you soon, if you just wait a little  I’ll be back soon  That’s all for today  Next time when I have the time, I’ll share another video  That’s all for now \"In South Korea, all able-bodied men aged 18-28 are required to serve in the military for about two years  All BTS members had been allowed to put off starting their military service until they turned 30 Other members -- RM, Suga, J-Hope, Jimin, V and Jungkook -- plan to carry out their military service based on their own individual plans  The group, which debuted in 2013, had said last year that they hope to reconvene as a unit around 2025 following their service commitment'"
      ]
     },
     "execution_count": 66,
     "metadata": {},
     "output_type": "execute_result"
    }
   ],
   "source": [
    "df1['content'].iloc[804]"
   ]
  },
  {
   "cell_type": "code",
   "execution_count": 67,
   "id": "d4fbd0ed",
   "metadata": {},
   "outputs": [
    {
     "data": {
      "text/plain": [
       "'Taking to Weverse on Wednesday Jin posted his pictures including selfies. In a photo, Jin is seen in his uniform as he stood with his arms on his sides. He also flashed the victory sign in another picture. ARMY, be happy and take care \"Jin\\'s message and photos left the BTS ARMY emotional. I love you so much Jin \"\"Jin is proud of all the armys who waited until he posts. Let us continue waiting and not spreading pics that are not posted by Jin,\" read a comment. In the video Jin had said, “Hello everyone, this is Jin of BTS. I may not be by your side, but I will go looking for you soon, if you just wait a little. '"
      ]
     },
     "execution_count": 67,
     "metadata": {},
     "output_type": "execute_result"
    }
   ],
   "source": [
    "summary[804]"
   ]
  },
  {
   "cell_type": "markdown",
   "id": "5743d345",
   "metadata": {},
   "source": [
    "# 5. Creating a New Dataframe For Storing Only The Required Results"
   ]
  },
  {
   "cell_type": "code",
   "execution_count": 68,
   "id": "d656d388",
   "metadata": {},
   "outputs": [],
   "source": [
    "df2 = pd.DataFrame()"
   ]
  },
  {
   "cell_type": "code",
   "execution_count": 69,
   "id": "a3c4e74a",
   "metadata": {},
   "outputs": [
    {
     "data": {
      "text/html": [
       "<div>\n",
       "<style scoped>\n",
       "    .dataframe tbody tr th:only-of-type {\n",
       "        vertical-align: middle;\n",
       "    }\n",
       "\n",
       "    .dataframe tbody tr th {\n",
       "        vertical-align: top;\n",
       "    }\n",
       "\n",
       "    .dataframe thead th {\n",
       "        text-align: right;\n",
       "    }\n",
       "</style>\n",
       "<table border=\"1\" class=\"dataframe\">\n",
       "  <thead>\n",
       "    <tr style=\"text-align: right;\">\n",
       "      <th></th>\n",
       "      <th>Original Content</th>\n",
       "    </tr>\n",
       "  </thead>\n",
       "  <tbody>\n",
       "    <tr>\n",
       "      <th>0</th>\n",
       "      <td>After reaching his hotel in the city, RM revea...</td>\n",
       "    </tr>\n",
       "    <tr>\n",
       "      <th>1</th>\n",
       "      <td>RM aka Kim Namjoon was the first member to joi...</td>\n",
       "    </tr>\n",
       "    <tr>\n",
       "      <th>2</th>\n",
       "      <td>Billie Eilish's concert was held in Seoul, Sou...</td>\n",
       "    </tr>\n",
       "    <tr>\n",
       "      <th>3</th>\n",
       "      <td>BTS ARMY you all would be missing the members ...</td>\n",
       "    </tr>\n",
       "    <tr>\n",
       "      <th>4</th>\n",
       "      <td>BTS member Kim Seokjin aka Jin has the capacit...</td>\n",
       "    </tr>\n",
       "  </tbody>\n",
       "</table>\n",
       "</div>"
      ],
      "text/plain": [
       "                                    Original Content\n",
       "0  After reaching his hotel in the city, RM revea...\n",
       "1  RM aka Kim Namjoon was the first member to joi...\n",
       "2  Billie Eilish's concert was held in Seoul, Sou...\n",
       "3  BTS ARMY you all would be missing the members ...\n",
       "4  BTS member Kim Seokjin aka Jin has the capacit..."
      ]
     },
     "execution_count": 69,
     "metadata": {},
     "output_type": "execute_result"
    }
   ],
   "source": [
    "df2['Original Content'] = df1['content'].apply(initial_preprocessing)\n",
    "df2.head()"
   ]
  },
  {
   "cell_type": "code",
   "execution_count": 70,
   "id": "b64e407f",
   "metadata": {},
   "outputs": [
    {
     "data": {
      "text/plain": [
       "(806, 1)"
      ]
     },
     "execution_count": 70,
     "metadata": {},
     "output_type": "execute_result"
    }
   ],
   "source": [
    "df2.shape"
   ]
  },
  {
   "cell_type": "code",
   "execution_count": 71,
   "id": "2c035d62",
   "metadata": {},
   "outputs": [
    {
     "data": {
      "text/plain": [
       "'2022 came to a celebratory end for BTS, especially member J-Hope, who was in New York, making another fabulous display of his skills.While away from the members, he seemed to have enjoyed it to the fullest with a solo performance at Dick Clark’s New Year’s Rockin’ Eve where he did a live stage of 3 songs, solo track ‘= (Equal Sign)’, ‘Chicken Noodle Soup’ his collaboration track with Becky G, and BTS’ ‘Butter’ (Holiday Remix).He officially became only the second South Korean soloist to perform at the event, following PSY.This was also J-Hope’s third time at Dick Clark’s New Year’s Rockin’ Eve after group stages with BTS in 2017 and 2019 .J-Hope’s live.After returning from Times Square where he performed as the penultimate act alongside multiple other singers from around the world and spoke to Ryan Seacrest, the host of the show, J-Hope was back at his hotel room and turned on a live broadcast to speak with his fans.As they congratulated him on his sparkling performance, being the perfectionist that he is, J-Hope expressed his sadness about being unable to use his voice to the fullest and talked about the slipping incident due to the rainy weather during his rehearsal stage..J-Hope on other BTS members’ New Year wishes.As soon as it turned 12, and the New Year began in South Korea, BTS members Jungkook, Jimin, and V took to the fan community platform Weverse to share their wishes with the fans as well as discuss their plans for the coming year.Jungkook and V kept it brief, wishing for a successful and happy year ahead while Jimin wrote a big letter to his fans about the feelings he had seemingly bottled for a long time about his wishes to release new music soon for which he has been meeting up with composers .Thousands of miles away, member J-Hope was his cheeky self as he unleashed all his love for his fellow BTS members.He began commenting ‘love you’ on their posts with cute words and received laughs from them in return .Jin’s call to J-Hope.On being asked about BTS’ oldest member Jin who became the first from the group to enlist in the military on December 13, J-Hope recalled how he was called by the member with a different phone number and almost missed it.J-Hope said, “Right before I was about to sleep on the 31st, I got a call from Jin and asked him how he was doing to which he said J-Hope, pick up your phone.I told him I did not know this number, how would I know it was his?”.The ‘Arson’ hitmaker spoke with a smile on his face about how he felt happy hearing Jin’s voice.It comforted him and J-Hope mentioned how he remembered all those moments he spent with Jin.He assured the fans by saying that Jin seemed to be healthy and doing well in the military.So in place of Jin, he shared that he was well and asked the fans to not worry.The lovely duo, BTS’ Jin and J-Hope nicknamed 2seok have always lightened the fans’ hearts with this interaction .https://twitter com/nightstar1201/status/1609428759454822401Jimin X Taeyang.BTS member Jimin and BIGBANG member Taeyang are a collaboration nobody would have expected.However, in December 2022, it was reported by industry officials that the two are working together on a release that will soon be revealed to the world.To this, Taeyang’s then-agency, YG Entertainment, which he has since departed, replied by saying that they cannot confirm anything at the moment and asked fans to anticipate Taeyang’s activities..On January 1, Taeyang who is currently a free agent, not having signed with anyone for his solo activities as he continues to be with YG Entertainment for any content related to BIGBANG, shared a rare update on his Instagram account.2 photos were shared with a caption of the hashtag #2023.In black and white, 2 people could be seen in the photos, their backs to the camera.While one could easily be spotted as Taeyang himself, the other one was not tagged....Fans went into action and soon began investigating every detail of the photo.The other person seemed to be Jimin, as his hands, fluffy hair, and earrings seem to match the BTS member.Though no official announcement was made from either side, it seems that the singers have decided to give a green signal from their ends.Taeyang is rumoured to have been preparing for a January 2023 comeback so it seems as though we can expect the reports any time now.Once confirmed, this could very well be the biggest release of the year and one of the most hyped collaborations in K-pop history!.Meanwhile, BIGBANG’s G-Dragon also announced that he is working on an album and hopes to release it in 2023 .Stay updated with the latest Hallyu news on: Instagram, YouTube, Twitter, Facebook and Snapchat.ALSO READ: BTS’ J-Hope, TXT wow at Dick Clark’s New Year’s Rockin’ Eve: 5 highlights from their stages'"
      ]
     },
     "execution_count": 71,
     "metadata": {},
     "output_type": "execute_result"
    }
   ],
   "source": [
    "df2['Original Content'].iloc[369]"
   ]
  },
  {
   "cell_type": "code",
   "execution_count": 72,
   "id": "51783cd7",
   "metadata": {},
   "outputs": [
    {
     "data": {
      "text/html": [
       "<div>\n",
       "<style scoped>\n",
       "    .dataframe tbody tr th:only-of-type {\n",
       "        vertical-align: middle;\n",
       "    }\n",
       "\n",
       "    .dataframe tbody tr th {\n",
       "        vertical-align: top;\n",
       "    }\n",
       "\n",
       "    .dataframe thead th {\n",
       "        text-align: right;\n",
       "    }\n",
       "</style>\n",
       "<table border=\"1\" class=\"dataframe\">\n",
       "  <thead>\n",
       "    <tr style=\"text-align: right;\">\n",
       "      <th></th>\n",
       "      <th>Original Content</th>\n",
       "      <th>New Content</th>\n",
       "    </tr>\n",
       "  </thead>\n",
       "  <tbody>\n",
       "    <tr>\n",
       "      <th>0</th>\n",
       "      <td>After reaching his hotel in the city, RM revea...</td>\n",
       "      <td>As he sat at a roadside open-air restaurant, R...</td>\n",
       "    </tr>\n",
       "    <tr>\n",
       "      <th>1</th>\n",
       "      <td>RM aka Kim Namjoon was the first member to joi...</td>\n",
       "      <td>RM aka Kim Namjoon was the first member to joi...</td>\n",
       "    </tr>\n",
       "    <tr>\n",
       "      <th>2</th>\n",
       "      <td>Billie Eilish's concert was held in Seoul, Sou...</td>\n",
       "      <td>They really enjoyed the concert as the audienc...</td>\n",
       "    </tr>\n",
       "    <tr>\n",
       "      <th>3</th>\n",
       "      <td>BTS ARMY you all would be missing the members ...</td>\n",
       "      <td>The boys are going to complete their projects ...</td>\n",
       "    </tr>\n",
       "    <tr>\n",
       "      <th>4</th>\n",
       "      <td>BTS member Kim Seokjin aka Jin has the capacit...</td>\n",
       "      <td>Some days back, we saw the Sea of Jin concept ...</td>\n",
       "    </tr>\n",
       "  </tbody>\n",
       "</table>\n",
       "</div>"
      ],
      "text/plain": [
       "                                    Original Content  \\\n",
       "0  After reaching his hotel in the city, RM revea...   \n",
       "1  RM aka Kim Namjoon was the first member to joi...   \n",
       "2  Billie Eilish's concert was held in Seoul, Sou...   \n",
       "3  BTS ARMY you all would be missing the members ...   \n",
       "4  BTS member Kim Seokjin aka Jin has the capacit...   \n",
       "\n",
       "                                         New Content  \n",
       "0  As he sat at a roadside open-air restaurant, R...  \n",
       "1  RM aka Kim Namjoon was the first member to joi...  \n",
       "2  They really enjoyed the concert as the audienc...  \n",
       "3  The boys are going to complete their projects ...  \n",
       "4  Some days back, we saw the Sea of Jin concept ...  "
      ]
     },
     "execution_count": 72,
     "metadata": {},
     "output_type": "execute_result"
    }
   ],
   "source": [
    "df2['New Content'] = summary\n",
    "df2.head()"
   ]
  },
  {
   "cell_type": "code",
   "execution_count": 73,
   "id": "01d6b044",
   "metadata": {},
   "outputs": [
    {
     "data": {
      "text/html": [
       "<div>\n",
       "<style scoped>\n",
       "    .dataframe tbody tr th:only-of-type {\n",
       "        vertical-align: middle;\n",
       "    }\n",
       "\n",
       "    .dataframe tbody tr th {\n",
       "        vertical-align: top;\n",
       "    }\n",
       "\n",
       "    .dataframe thead th {\n",
       "        text-align: right;\n",
       "    }\n",
       "</style>\n",
       "<table border=\"1\" class=\"dataframe\">\n",
       "  <thead>\n",
       "    <tr style=\"text-align: right;\">\n",
       "      <th></th>\n",
       "      <th>Original Content</th>\n",
       "      <th>New Content</th>\n",
       "    </tr>\n",
       "  </thead>\n",
       "  <tbody>\n",
       "    <tr>\n",
       "      <th>229</th>\n",
       "      <td>BTS' fame is such that there is no doubt that ...</td>\n",
       "      <td></td>\n",
       "    </tr>\n",
       "  </tbody>\n",
       "</table>\n",
       "</div>"
      ],
      "text/plain": [
       "                                      Original Content New Content\n",
       "229  BTS' fame is such that there is no doubt that ...            "
      ]
     },
     "execution_count": 73,
     "metadata": {},
     "output_type": "execute_result"
    }
   ],
   "source": [
    "df2[df2['New Content'] == '']"
   ]
  },
  {
   "cell_type": "markdown",
   "id": "a2e51c13",
   "metadata": {},
   "source": [
    "### This is the part, where I faced a major problem, as it was unexpected. For data in some rows like the one above (229th row) the vectors generated were very long. Due to this, I was continously getting error as \"Power Iteration failed\". At last, I increased maximum interations to 1 Lakh (this is obviously veryyyyy high). But still, error persisted.\n",
    "\n",
    "### Even, I rechecked everything from Data Pre-processing till the point, but I found no more pre-processing of data could be done to reduce the vectors. Eventually, I had to add try-except block in the function, so that if summary for a particular data cannot be generated, just replace it with empty string.\n",
    "\n",
    "### Here, after thinking of each and every possibility, I decided to drop the row as its just 1 row."
   ]
  },
  {
   "cell_type": "code",
   "execution_count": 74,
   "id": "3f3683c4",
   "metadata": {},
   "outputs": [],
   "source": [
    "df2.drop(df2[df2['New Content'] == ''].index[0], axis=0, inplace=True)"
   ]
  },
  {
   "cell_type": "code",
   "execution_count": 75,
   "id": "a0070699",
   "metadata": {},
   "outputs": [
    {
     "data": {
      "text/html": [
       "<div>\n",
       "<style scoped>\n",
       "    .dataframe tbody tr th:only-of-type {\n",
       "        vertical-align: middle;\n",
       "    }\n",
       "\n",
       "    .dataframe tbody tr th {\n",
       "        vertical-align: top;\n",
       "    }\n",
       "\n",
       "    .dataframe thead th {\n",
       "        text-align: right;\n",
       "    }\n",
       "</style>\n",
       "<table border=\"1\" class=\"dataframe\">\n",
       "  <thead>\n",
       "    <tr style=\"text-align: right;\">\n",
       "      <th></th>\n",
       "      <th>Original Content</th>\n",
       "      <th>New Content</th>\n",
       "    </tr>\n",
       "  </thead>\n",
       "  <tbody>\n",
       "  </tbody>\n",
       "</table>\n",
       "</div>"
      ],
      "text/plain": [
       "Empty DataFrame\n",
       "Columns: [Original Content, New Content]\n",
       "Index: []"
      ]
     },
     "execution_count": 75,
     "metadata": {},
     "output_type": "execute_result"
    }
   ],
   "source": [
    "df2[df2['New Content'] == '']"
   ]
  },
  {
   "cell_type": "code",
   "execution_count": 76,
   "id": "4de931a9",
   "metadata": {},
   "outputs": [
    {
     "data": {
      "text/plain": [
       "Original Content    0\n",
       "New Content         0\n",
       "dtype: int64"
      ]
     },
     "execution_count": 76,
     "metadata": {},
     "output_type": "execute_result"
    }
   ],
   "source": [
    "df2.isna().sum()"
   ]
  },
  {
   "cell_type": "code",
   "execution_count": 77,
   "id": "5b294fb4",
   "metadata": {},
   "outputs": [
    {
     "data": {
      "text/plain": [
       "(805, 2)"
      ]
     },
     "execution_count": 77,
     "metadata": {},
     "output_type": "execute_result"
    }
   ],
   "source": [
    "df2.shape"
   ]
  },
  {
   "cell_type": "code",
   "execution_count": 78,
   "id": "7e8dd082",
   "metadata": {},
   "outputs": [
    {
     "data": {
      "text/html": [
       "<div>\n",
       "<style scoped>\n",
       "    .dataframe tbody tr th:only-of-type {\n",
       "        vertical-align: middle;\n",
       "    }\n",
       "\n",
       "    .dataframe tbody tr th {\n",
       "        vertical-align: top;\n",
       "    }\n",
       "\n",
       "    .dataframe thead th {\n",
       "        text-align: right;\n",
       "    }\n",
       "</style>\n",
       "<table border=\"1\" class=\"dataframe\">\n",
       "  <thead>\n",
       "    <tr style=\"text-align: right;\">\n",
       "      <th></th>\n",
       "      <th>Original Content</th>\n",
       "      <th>New Content</th>\n",
       "    </tr>\n",
       "  </thead>\n",
       "  <tbody>\n",
       "  </tbody>\n",
       "</table>\n",
       "</div>"
      ],
      "text/plain": [
       "Empty DataFrame\n",
       "Columns: [Original Content, New Content]\n",
       "Index: []"
      ]
     },
     "execution_count": 78,
     "metadata": {},
     "output_type": "execute_result"
    }
   ],
   "source": [
    "df2[df2['New Content'].isna()]"
   ]
  },
  {
   "cell_type": "markdown",
   "id": "27d645ff",
   "metadata": {},
   "source": [
    "## 5.1 Saving my work till here, into a CSV file"
   ]
  },
  {
   "cell_type": "code",
   "execution_count": 79,
   "id": "0739021d",
   "metadata": {},
   "outputs": [
    {
     "name": "stdout",
     "output_type": "stream",
     "text": [
      "Your file has been created !!!\n"
     ]
    }
   ],
   "source": [
    "try:\n",
    "    df2.to_csv('./Summarized News.csv', index=False)\n",
    "    print(\"Your file has been created !!!\")\n",
    "except:\n",
    "    print(\"Failed to create fail. Might be due to permission related errors.\")"
   ]
  },
  {
   "cell_type": "markdown",
   "id": "f0d90c70",
   "metadata": {},
   "source": [
    "# 6. Finally Working On Summarized File"
   ]
  },
  {
   "cell_type": "code",
   "execution_count": 80,
   "id": "5be660da",
   "metadata": {},
   "outputs": [
    {
     "data": {
      "text/html": [
       "<div>\n",
       "<style scoped>\n",
       "    .dataframe tbody tr th:only-of-type {\n",
       "        vertical-align: middle;\n",
       "    }\n",
       "\n",
       "    .dataframe tbody tr th {\n",
       "        vertical-align: top;\n",
       "    }\n",
       "\n",
       "    .dataframe thead th {\n",
       "        text-align: right;\n",
       "    }\n",
       "</style>\n",
       "<table border=\"1\" class=\"dataframe\">\n",
       "  <thead>\n",
       "    <tr style=\"text-align: right;\">\n",
       "      <th></th>\n",
       "      <th>Original Content</th>\n",
       "      <th>New Content</th>\n",
       "    </tr>\n",
       "  </thead>\n",
       "  <tbody>\n",
       "    <tr>\n",
       "      <th>0</th>\n",
       "      <td>After reaching his hotel in the city, RM revea...</td>\n",
       "      <td>As he sat at a roadside open-air restaurant, R...</td>\n",
       "    </tr>\n",
       "    <tr>\n",
       "      <th>1</th>\n",
       "      <td>RM aka Kim Namjoon was the first member to joi...</td>\n",
       "      <td>RM aka Kim Namjoon was the first member to joi...</td>\n",
       "    </tr>\n",
       "    <tr>\n",
       "      <th>2</th>\n",
       "      <td>Billie Eilish's concert was held in Seoul, Sou...</td>\n",
       "      <td>They really enjoyed the concert as the audienc...</td>\n",
       "    </tr>\n",
       "    <tr>\n",
       "      <th>3</th>\n",
       "      <td>BTS ARMY you all would be missing the members ...</td>\n",
       "      <td>The boys are going to complete their projects ...</td>\n",
       "    </tr>\n",
       "    <tr>\n",
       "      <th>4</th>\n",
       "      <td>BTS member Kim Seokjin aka Jin has the capacit...</td>\n",
       "      <td>Some days back, we saw the Sea of Jin concept ...</td>\n",
       "    </tr>\n",
       "  </tbody>\n",
       "</table>\n",
       "</div>"
      ],
      "text/plain": [
       "                                    Original Content  \\\n",
       "0  After reaching his hotel in the city, RM revea...   \n",
       "1  RM aka Kim Namjoon was the first member to joi...   \n",
       "2  Billie Eilish's concert was held in Seoul, Sou...   \n",
       "3  BTS ARMY you all would be missing the members ...   \n",
       "4  BTS member Kim Seokjin aka Jin has the capacit...   \n",
       "\n",
       "                                         New Content  \n",
       "0  As he sat at a roadside open-air restaurant, R...  \n",
       "1  RM aka Kim Namjoon was the first member to joi...  \n",
       "2  They really enjoyed the concert as the audienc...  \n",
       "3  The boys are going to complete their projects ...  \n",
       "4  Some days back, we saw the Sea of Jin concept ...  "
      ]
     },
     "execution_count": 80,
     "metadata": {},
     "output_type": "execute_result"
    }
   ],
   "source": [
    "df3 = pd.read_csv('./Summarized News.csv')\n",
    "df3.head()"
   ]
  },
  {
   "cell_type": "code",
   "execution_count": 81,
   "id": "63e3f489",
   "metadata": {},
   "outputs": [
    {
     "data": {
      "text/plain": [
       "Original Content    0\n",
       "New Content         0\n",
       "dtype: int64"
      ]
     },
     "execution_count": 81,
     "metadata": {},
     "output_type": "execute_result"
    }
   ],
   "source": [
    "df3.isna().sum()"
   ]
  },
  {
   "cell_type": "markdown",
   "id": "f8df64bc",
   "metadata": {},
   "source": [
    "## 6.1 Discovering the lines that were removed"
   ]
  },
  {
   "cell_type": "code",
   "execution_count": 82,
   "id": "35080336",
   "metadata": {},
   "outputs": [
    {
     "data": {
      "text/plain": [
       "\"On January 23, JYP Entertainment released new concept images for Stray Kids’ second fan meeting ‘SKZ’s Chocolate Factory’.Each member looks amazing in the soft pastel clothes and pretty accessories as they work in the chocolate factory.The fan meeting will be held on February 12 and 13.On February 13th, an offline fan meeting and an online paid live broadcast on the Beyond Live platform will be held at the same time, and precious memories will be made with domestic and foreign fans.Tickets for offline performances were pre-purchased for the fan club from 8:00 pm to 11:59 pm on January 17th for members of the 2nd period of the official fan club STAY, and all seats were sold out at the same time as they opened.Thanks to such enthusiastic support, JYP Entertainment opened additional seats available for viewing at 8 pm on January 19th, and this also sold out quickly, realizing the power of Stray Kids' tickets.This fan meeting is the first in about a year since the first official fan meeting on February 20, 2021, and Stray Kids is expected to meet fans around the world for a long time and will spend sweet time together that transcends time and space.Stray Kids, who broke their best scores in various indicators last year and achieved 'Career High', were honored with 4 crowns, including the first grand prize in their debut, at the awards ceremony to close the year.At the '2021 The Fact Music Awards', '2021 Asian Artist Awards', and '2021 Mnet Asian Music Awards' respectively, they won the Artist of the Year Award, Performance Award of the Year, and Worldwide Fans' Choice Top Ten respectively.At the Golden Disc Awards, they added a trophy in the album category to show off their 'K-Pop 4th generation representative group' ALSO READ: The official trailer of Netflix's  of us are Dead' surpasses THIS number of views on YouTubeThe magnificent celebration of K-world culminates with The HallyuTalk Awards, watch here What do you think of the concept photos? Let us know in the comments below.\""
      ]
     },
     "execution_count": 82,
     "metadata": {},
     "output_type": "execute_result"
    }
   ],
   "source": [
    "content = df3['Original Content'].iloc[370]\n",
    "content"
   ]
  },
  {
   "cell_type": "code",
   "execution_count": 83,
   "id": "64324201",
   "metadata": {},
   "outputs": [
    {
     "data": {
      "text/plain": [
       "\"Tickets for offline performances were pre-purchased for the fan club from 8:00 pm to 11:59 pm on January 17th for members of the 2nd period of the official fan club STAY, and all seats were sold out at the same time as they opened. Thanks to such enthusiastic support, JYP Entertainment opened additional seats available for viewing at 8 pm on January 19th, and this also sold out quickly, realizing the power of Stray Kids' tickets. At the '2021 The Fact Music Awards', '2021 Asian Artist Awards', and '2021 Mnet Asian Music Awards' respectively, they won the Artist of the Year Award, Performance Award of the Year, and Worldwide Fans' Choice Top Ten respectively. \""
      ]
     },
     "execution_count": 83,
     "metadata": {},
     "output_type": "execute_result"
    }
   ],
   "source": [
    "summary = df3['New Content'].iloc[370]\n",
    "summary"
   ]
  },
  {
   "cell_type": "markdown",
   "id": "6a6c6320",
   "metadata": {},
   "source": [
    "### Showing the total number of lines in the actual content"
   ]
  },
  {
   "cell_type": "code",
   "execution_count": 84,
   "id": "277c5050",
   "metadata": {},
   "outputs": [
    {
     "data": {
      "text/plain": [
       "10"
      ]
     },
     "execution_count": 84,
     "metadata": {},
     "output_type": "execute_result"
    }
   ],
   "source": [
    "content_split = []\n",
    "for i in content.split(\".\"):\n",
    "    i = i.strip()\n",
    "    if len(i) != 0 and i != \" \":\n",
    "        content_split.append(i)\n",
    "len(content_split)"
   ]
  },
  {
   "cell_type": "markdown",
   "id": "b4a9ccc9",
   "metadata": {},
   "source": [
    "### Showing the total number of lines in the summary generated for content"
   ]
  },
  {
   "cell_type": "code",
   "execution_count": 85,
   "id": "6da81a2a",
   "metadata": {},
   "outputs": [
    {
     "data": {
      "text/plain": [
       "3"
      ]
     },
     "execution_count": 85,
     "metadata": {},
     "output_type": "execute_result"
    }
   ],
   "source": [
    "summary_split = []\n",
    "for i in summary.split(\".\"):\n",
    "    i = i.strip()\n",
    "    if len(i) != 0 and i != \" \":\n",
    "        summary_split.append(i)\n",
    "len(summary_split)"
   ]
  },
  {
   "cell_type": "markdown",
   "id": "619c235e",
   "metadata": {},
   "source": [
    "### Showing the number of lines removed"
   ]
  },
  {
   "cell_type": "code",
   "execution_count": 86,
   "id": "aac3fdaf",
   "metadata": {},
   "outputs": [
    {
     "data": {
      "text/plain": [
       "7"
      ]
     },
     "execution_count": 86,
     "metadata": {},
     "output_type": "execute_result"
    }
   ],
   "source": [
    "removed_lines = []\n",
    "for i in content_split:\n",
    "    if i not in summary_split:\n",
    "        removed_lines.append(i)\n",
    "len(removed_lines)"
   ]
  },
  {
   "cell_type": "markdown",
   "id": "c484430e",
   "metadata": {},
   "source": [
    "## 6.2 Combining all above process into a function"
   ]
  },
  {
   "cell_type": "code",
   "execution_count": 87,
   "id": "07e5dfaa",
   "metadata": {},
   "outputs": [],
   "source": [
    "def removed_lines(content, summary):\n",
    "    content_split = []\n",
    "    for i in content.split(\".\"):\n",
    "        i = i.strip()\n",
    "        if len(i) != 0 and i != \" \":\n",
    "            content_split.append(i)\n",
    "    \n",
    "    summary_split = []      \n",
    "    for i in summary.split(\".\"):\n",
    "        i = i.strip()\n",
    "        if len(i) != 0 and i != \" \":\n",
    "            summary_split.append(i)\n",
    "    \n",
    "    removed_line = []\n",
    "    for i in content_split:\n",
    "        if i not in summary_split:\n",
    "            removed_line.append(i)\n",
    "            \n",
    "    removedLines = \". \".join(removed_line) \n",
    "    return removedLines"
   ]
  },
  {
   "cell_type": "code",
   "execution_count": 88,
   "id": "82fb48cf",
   "metadata": {},
   "outputs": [],
   "source": [
    "removed_line = df3.apply(lambda x: removed_lines(x['Original Content'], x['New Content']), axis=1)"
   ]
  },
  {
   "cell_type": "code",
   "execution_count": 89,
   "id": "2cb94fbe",
   "metadata": {},
   "outputs": [
    {
     "data": {
      "text/plain": [
       "0      After reaching his hotel in the city, RM revea...\n",
       "1      The group released their debut single album 2 ...\n",
       "2      Billie Eilish's concert was held in Seoul, Sou...\n",
       "3      BTS ARMY you all would be missing the members ...\n",
       "4      BTS member Kim Seokjin aka Jin has the capacit...\n",
       "                             ...                        \n",
       "800    BTS has conquered the world with their group r...\n",
       "801    Since it was released, the meaningful song rec...\n",
       "802    After checking out his live video, BTS' Jungko...\n",
       "803    BTS' eldest member Jin has shared pictures and...\n",
       "804    After a lot of teasing, Benny Blanco’s collabo...\n",
       "Length: 805, dtype: object"
      ]
     },
     "execution_count": 89,
     "metadata": {},
     "output_type": "execute_result"
    }
   ],
   "source": [
    "removed_line"
   ]
  },
  {
   "cell_type": "code",
   "execution_count": 90,
   "id": "ea4ba2f4",
   "metadata": {},
   "outputs": [
    {
     "data": {
      "text/plain": [
       "805"
      ]
     },
     "execution_count": 90,
     "metadata": {},
     "output_type": "execute_result"
    }
   ],
   "source": [
    "len(removed_line)"
   ]
  },
  {
   "cell_type": "code",
   "execution_count": 91,
   "id": "700cc357",
   "metadata": {},
   "outputs": [
    {
     "data": {
      "text/plain": [
       "(805, 2)"
      ]
     },
     "execution_count": 91,
     "metadata": {},
     "output_type": "execute_result"
    }
   ],
   "source": [
    "df3.shape"
   ]
  },
  {
   "cell_type": "markdown",
   "id": "a352fecc",
   "metadata": {},
   "source": [
    "## 6.3 Creating a seperated column for storing the removed lines"
   ]
  },
  {
   "cell_type": "code",
   "execution_count": 92,
   "id": "6fdf6daa",
   "metadata": {},
   "outputs": [
    {
     "data": {
      "text/html": [
       "<div>\n",
       "<style scoped>\n",
       "    .dataframe tbody tr th:only-of-type {\n",
       "        vertical-align: middle;\n",
       "    }\n",
       "\n",
       "    .dataframe tbody tr th {\n",
       "        vertical-align: top;\n",
       "    }\n",
       "\n",
       "    .dataframe thead th {\n",
       "        text-align: right;\n",
       "    }\n",
       "</style>\n",
       "<table border=\"1\" class=\"dataframe\">\n",
       "  <thead>\n",
       "    <tr style=\"text-align: right;\">\n",
       "      <th></th>\n",
       "      <th>Original Content</th>\n",
       "      <th>New Content</th>\n",
       "      <th>Removed Lines</th>\n",
       "    </tr>\n",
       "  </thead>\n",
       "  <tbody>\n",
       "    <tr>\n",
       "      <th>0</th>\n",
       "      <td>After reaching his hotel in the city, RM revea...</td>\n",
       "      <td>As he sat at a roadside open-air restaurant, R...</td>\n",
       "      <td>After reaching his hotel in the city, RM revea...</td>\n",
       "    </tr>\n",
       "    <tr>\n",
       "      <th>1</th>\n",
       "      <td>RM aka Kim Namjoon was the first member to joi...</td>\n",
       "      <td>RM aka Kim Namjoon was the first member to joi...</td>\n",
       "      <td>The group released their debut single album 2 ...</td>\n",
       "    </tr>\n",
       "    <tr>\n",
       "      <th>2</th>\n",
       "      <td>Billie Eilish's concert was held in Seoul, Sou...</td>\n",
       "      <td>They really enjoyed the concert as the audienc...</td>\n",
       "      <td>Billie Eilish's concert was held in Seoul, Sou...</td>\n",
       "    </tr>\n",
       "    <tr>\n",
       "      <th>3</th>\n",
       "      <td>BTS ARMY you all would be missing the members ...</td>\n",
       "      <td>The boys are going to complete their projects ...</td>\n",
       "      <td>BTS ARMY you all would be missing the members ...</td>\n",
       "    </tr>\n",
       "    <tr>\n",
       "      <th>4</th>\n",
       "      <td>BTS member Kim Seokjin aka Jin has the capacit...</td>\n",
       "      <td>Some days back, we saw the Sea of Jin concept ...</td>\n",
       "      <td>BTS member Kim Seokjin aka Jin has the capacit...</td>\n",
       "    </tr>\n",
       "  </tbody>\n",
       "</table>\n",
       "</div>"
      ],
      "text/plain": [
       "                                    Original Content  \\\n",
       "0  After reaching his hotel in the city, RM revea...   \n",
       "1  RM aka Kim Namjoon was the first member to joi...   \n",
       "2  Billie Eilish's concert was held in Seoul, Sou...   \n",
       "3  BTS ARMY you all would be missing the members ...   \n",
       "4  BTS member Kim Seokjin aka Jin has the capacit...   \n",
       "\n",
       "                                         New Content  \\\n",
       "0  As he sat at a roadside open-air restaurant, R...   \n",
       "1  RM aka Kim Namjoon was the first member to joi...   \n",
       "2  They really enjoyed the concert as the audienc...   \n",
       "3  The boys are going to complete their projects ...   \n",
       "4  Some days back, we saw the Sea of Jin concept ...   \n",
       "\n",
       "                                       Removed Lines  \n",
       "0  After reaching his hotel in the city, RM revea...  \n",
       "1  The group released their debut single album 2 ...  \n",
       "2  Billie Eilish's concert was held in Seoul, Sou...  \n",
       "3  BTS ARMY you all would be missing the members ...  \n",
       "4  BTS member Kim Seokjin aka Jin has the capacit...  "
      ]
     },
     "execution_count": 92,
     "metadata": {},
     "output_type": "execute_result"
    }
   ],
   "source": [
    "df3['Removed Lines'] = removed_line\n",
    "df3.head()"
   ]
  },
  {
   "cell_type": "code",
   "execution_count": 93,
   "id": "2126fde1",
   "metadata": {},
   "outputs": [
    {
     "data": {
      "text/plain": [
       "17"
      ]
     },
     "execution_count": 93,
     "metadata": {},
     "output_type": "execute_result"
    }
   ],
   "source": [
    "len(df3['Original Content'].iloc[0].split(\".\"))-len(df3['New Content'].iloc[0].split(\".\"))"
   ]
  },
  {
   "cell_type": "code",
   "execution_count": 94,
   "id": "2a0b8740",
   "metadata": {},
   "outputs": [
    {
     "data": {
      "text/plain": [
       "17"
      ]
     },
     "execution_count": 94,
     "metadata": {},
     "output_type": "execute_result"
    }
   ],
   "source": [
    "len(df3['Removed Lines'].iloc[0].split(\".\"))"
   ]
  },
  {
   "cell_type": "code",
   "execution_count": 95,
   "id": "c85314b6",
   "metadata": {},
   "outputs": [],
   "source": [
    "from sentence_transformers import SentenceTransformer, util"
   ]
  },
  {
   "cell_type": "code",
   "execution_count": 96,
   "id": "e9e33db5",
   "metadata": {},
   "outputs": [],
   "source": [
    "model = SentenceTransformer('all-MiniLM-L6-v2')"
   ]
  },
  {
   "cell_type": "code",
   "execution_count": 97,
   "id": "d2b1d76b",
   "metadata": {},
   "outputs": [],
   "source": [
    "originalC = df3['Original Content'].iloc[1]\n",
    "newC = df3['New Content'].iloc[1]"
   ]
  },
  {
   "cell_type": "code",
   "execution_count": 98,
   "id": "aab9d368",
   "metadata": {},
   "outputs": [
    {
     "name": "stdout",
     "output_type": "stream",
     "text": [
      "<class 'numpy.ndarray'>\n"
     ]
    }
   ],
   "source": [
    "en_1 = model.encode(originalC)\n",
    "en_2 = model.encode(newC)\n",
    "print(type(en_1))"
   ]
  },
  {
   "cell_type": "markdown",
   "id": "3d915eb3",
   "metadata": {},
   "source": [
    "## 6.3 Using Cosine Similarity to estimate the similarity of summary and the original content"
   ]
  },
  {
   "cell_type": "code",
   "execution_count": 99,
   "id": "dada1c8f",
   "metadata": {},
   "outputs": [
    {
     "name": "stdout",
     "output_type": "stream",
     "text": [
      "0.7904312014579773\n",
      "<class 'torch.Tensor'>\n"
     ]
    }
   ],
   "source": [
    "result = util.cos_sim(en_1, en_2)\n",
    "\n",
    "print(float(result))\n",
    "print(type(result))"
   ]
  },
  {
   "cell_type": "code",
   "execution_count": 100,
   "id": "beaa5e0f",
   "metadata": {},
   "outputs": [
    {
     "name": "stdout",
     "output_type": "stream",
     "text": [
      "0.7904312014579773\n",
      "<class 'float'>\n"
     ]
    }
   ],
   "source": [
    "result_float = result.item()\n",
    "print(result_float)\n",
    "print(type(result_float))"
   ]
  },
  {
   "cell_type": "code",
   "execution_count": 101,
   "id": "386fd227",
   "metadata": {},
   "outputs": [],
   "source": [
    "def metrics(originalC, newC):\n",
    "    en_1 = model.encode(originalC)\n",
    "    en_2 = model.encode(newC)\n",
    "    result = util.cos_sim(en_1, en_2)\n",
    "    # print(float(result))\n",
    "    return float(result)"
   ]
  },
  {
   "cell_type": "code",
   "execution_count": 102,
   "id": "2d3c70c2",
   "metadata": {},
   "outputs": [],
   "source": [
    "cosine = df3.apply(lambda x: metrics(x['Original Content'], x['New Content']), axis=1)"
   ]
  },
  {
   "cell_type": "code",
   "execution_count": 103,
   "id": "1ccd6e3e",
   "metadata": {},
   "outputs": [
    {
     "data": {
      "text/plain": [
       "(805,)"
      ]
     },
     "execution_count": 103,
     "metadata": {},
     "output_type": "execute_result"
    }
   ],
   "source": [
    "cosine.shape"
   ]
  },
  {
   "cell_type": "code",
   "execution_count": 104,
   "id": "cd07f34a",
   "metadata": {},
   "outputs": [],
   "source": [
    "df3['Cosine Similarity'] = cosine"
   ]
  },
  {
   "cell_type": "code",
   "execution_count": 105,
   "id": "77af9f21",
   "metadata": {},
   "outputs": [
    {
     "data": {
      "text/html": [
       "<div>\n",
       "<style scoped>\n",
       "    .dataframe tbody tr th:only-of-type {\n",
       "        vertical-align: middle;\n",
       "    }\n",
       "\n",
       "    .dataframe tbody tr th {\n",
       "        vertical-align: top;\n",
       "    }\n",
       "\n",
       "    .dataframe thead th {\n",
       "        text-align: right;\n",
       "    }\n",
       "</style>\n",
       "<table border=\"1\" class=\"dataframe\">\n",
       "  <thead>\n",
       "    <tr style=\"text-align: right;\">\n",
       "      <th></th>\n",
       "      <th>Original Content</th>\n",
       "      <th>New Content</th>\n",
       "      <th>Removed Lines</th>\n",
       "      <th>Cosine Similarity</th>\n",
       "    </tr>\n",
       "  </thead>\n",
       "  <tbody>\n",
       "    <tr>\n",
       "      <th>0</th>\n",
       "      <td>After reaching his hotel in the city, RM revea...</td>\n",
       "      <td>As he sat at a roadside open-air restaurant, R...</td>\n",
       "      <td>After reaching his hotel in the city, RM revea...</td>\n",
       "      <td>0.796752</td>\n",
       "    </tr>\n",
       "    <tr>\n",
       "      <th>1</th>\n",
       "      <td>RM aka Kim Namjoon was the first member to joi...</td>\n",
       "      <td>RM aka Kim Namjoon was the first member to joi...</td>\n",
       "      <td>The group released their debut single album 2 ...</td>\n",
       "      <td>0.790431</td>\n",
       "    </tr>\n",
       "    <tr>\n",
       "      <th>2</th>\n",
       "      <td>Billie Eilish's concert was held in Seoul, Sou...</td>\n",
       "      <td>They really enjoyed the concert as the audienc...</td>\n",
       "      <td>Billie Eilish's concert was held in Seoul, Sou...</td>\n",
       "      <td>0.840863</td>\n",
       "    </tr>\n",
       "    <tr>\n",
       "      <th>3</th>\n",
       "      <td>BTS ARMY you all would be missing the members ...</td>\n",
       "      <td>The boys are going to complete their projects ...</td>\n",
       "      <td>BTS ARMY you all would be missing the members ...</td>\n",
       "      <td>0.709553</td>\n",
       "    </tr>\n",
       "    <tr>\n",
       "      <th>4</th>\n",
       "      <td>BTS member Kim Seokjin aka Jin has the capacit...</td>\n",
       "      <td>Some days back, we saw the Sea of Jin concept ...</td>\n",
       "      <td>BTS member Kim Seokjin aka Jin has the capacit...</td>\n",
       "      <td>0.719757</td>\n",
       "    </tr>\n",
       "  </tbody>\n",
       "</table>\n",
       "</div>"
      ],
      "text/plain": [
       "                                    Original Content  \\\n",
       "0  After reaching his hotel in the city, RM revea...   \n",
       "1  RM aka Kim Namjoon was the first member to joi...   \n",
       "2  Billie Eilish's concert was held in Seoul, Sou...   \n",
       "3  BTS ARMY you all would be missing the members ...   \n",
       "4  BTS member Kim Seokjin aka Jin has the capacit...   \n",
       "\n",
       "                                         New Content  \\\n",
       "0  As he sat at a roadside open-air restaurant, R...   \n",
       "1  RM aka Kim Namjoon was the first member to joi...   \n",
       "2  They really enjoyed the concert as the audienc...   \n",
       "3  The boys are going to complete their projects ...   \n",
       "4  Some days back, we saw the Sea of Jin concept ...   \n",
       "\n",
       "                                       Removed Lines  Cosine Similarity  \n",
       "0  After reaching his hotel in the city, RM revea...           0.796752  \n",
       "1  The group released their debut single album 2 ...           0.790431  \n",
       "2  Billie Eilish's concert was held in Seoul, Sou...           0.840863  \n",
       "3  BTS ARMY you all would be missing the members ...           0.709553  \n",
       "4  BTS member Kim Seokjin aka Jin has the capacit...           0.719757  "
      ]
     },
     "execution_count": 105,
     "metadata": {},
     "output_type": "execute_result"
    }
   ],
   "source": [
    "df3.head()"
   ]
  },
  {
   "cell_type": "code",
   "execution_count": 106,
   "id": "5479b5c5",
   "metadata": {},
   "outputs": [
    {
     "data": {
      "text/plain": [
       "0.36477231979370117"
      ]
     },
     "execution_count": 106,
     "metadata": {},
     "output_type": "execute_result"
    }
   ],
   "source": [
    "min(cosine)"
   ]
  },
  {
   "cell_type": "code",
   "execution_count": 107,
   "id": "efad9cb0",
   "metadata": {},
   "outputs": [
    {
     "data": {
      "text/plain": [
       "0.9571455717086792"
      ]
     },
     "execution_count": 107,
     "metadata": {},
     "output_type": "execute_result"
    }
   ],
   "source": [
    "max(cosine)"
   ]
  },
  {
   "cell_type": "code",
   "execution_count": 108,
   "id": "8084826e",
   "metadata": {},
   "outputs": [
    {
     "data": {
      "text/plain": [
       "0.7548249448678508"
      ]
     },
     "execution_count": 108,
     "metadata": {},
     "output_type": "execute_result"
    }
   ],
   "source": [
    "np.mean(cosine)"
   ]
  },
  {
   "cell_type": "code",
   "execution_count": 109,
   "id": "90b68fc4",
   "metadata": {},
   "outputs": [
    {
     "data": {
      "text/plain": [
       "0.7781685590744019"
      ]
     },
     "execution_count": 109,
     "metadata": {},
     "output_type": "execute_result"
    }
   ],
   "source": [
    "np.median(cosine)"
   ]
  },
  {
   "cell_type": "markdown",
   "id": "85e4c9c1",
   "metadata": {},
   "source": [
    "## 6.4 Using Sementic Similarity to estimate how sementically our generated summary is close to original content"
   ]
  },
  {
   "cell_type": "code",
   "execution_count": 110,
   "id": "1e647857",
   "metadata": {},
   "outputs": [],
   "source": [
    "nlp1 = spacy.load(\"en_core_web_lg\")"
   ]
  },
  {
   "cell_type": "code",
   "execution_count": 111,
   "id": "10130cf3",
   "metadata": {},
   "outputs": [
    {
     "name": "stdout",
     "output_type": "stream",
     "text": [
      "0.9229698009279503\n"
     ]
    }
   ],
   "source": [
    "doc1 = nlp(originalC)\n",
    "doc2 = nlp(newC)\n",
    "print(doc1.similarity(doc2)) "
   ]
  },
  {
   "cell_type": "code",
   "execution_count": 112,
   "id": "2ecc1475",
   "metadata": {},
   "outputs": [],
   "source": [
    "def nlptextsimilarity(originalC, newC):\n",
    "    doc1 = nlp(originalC)\n",
    "    doc2 = nlp(newC)\n",
    "    return doc1.similarity(doc2) "
   ]
  },
  {
   "cell_type": "code",
   "execution_count": 113,
   "id": "1f9b5404",
   "metadata": {},
   "outputs": [],
   "source": [
    "nlptextsimi = df3.apply(lambda x: nlptextsimilarity(x['Original Content'], x['New Content']), axis=1)"
   ]
  },
  {
   "cell_type": "code",
   "execution_count": 114,
   "id": "8536623b",
   "metadata": {},
   "outputs": [],
   "source": [
    "df3['NLP Text Similarity'] = nlptextsimi"
   ]
  },
  {
   "cell_type": "code",
   "execution_count": 115,
   "id": "ca2c32c0",
   "metadata": {},
   "outputs": [
    {
     "data": {
      "text/html": [
       "<div>\n",
       "<style scoped>\n",
       "    .dataframe tbody tr th:only-of-type {\n",
       "        vertical-align: middle;\n",
       "    }\n",
       "\n",
       "    .dataframe tbody tr th {\n",
       "        vertical-align: top;\n",
       "    }\n",
       "\n",
       "    .dataframe thead th {\n",
       "        text-align: right;\n",
       "    }\n",
       "</style>\n",
       "<table border=\"1\" class=\"dataframe\">\n",
       "  <thead>\n",
       "    <tr style=\"text-align: right;\">\n",
       "      <th></th>\n",
       "      <th>Original Content</th>\n",
       "      <th>New Content</th>\n",
       "      <th>Removed Lines</th>\n",
       "      <th>Cosine Similarity</th>\n",
       "      <th>NLP Text Similarity</th>\n",
       "    </tr>\n",
       "  </thead>\n",
       "  <tbody>\n",
       "    <tr>\n",
       "      <th>0</th>\n",
       "      <td>After reaching his hotel in the city, RM revea...</td>\n",
       "      <td>As he sat at a roadside open-air restaurant, R...</td>\n",
       "      <td>After reaching his hotel in the city, RM revea...</td>\n",
       "      <td>0.796752</td>\n",
       "      <td>0.947731</td>\n",
       "    </tr>\n",
       "    <tr>\n",
       "      <th>1</th>\n",
       "      <td>RM aka Kim Namjoon was the first member to joi...</td>\n",
       "      <td>RM aka Kim Namjoon was the first member to joi...</td>\n",
       "      <td>The group released their debut single album 2 ...</td>\n",
       "      <td>0.790431</td>\n",
       "      <td>0.922970</td>\n",
       "    </tr>\n",
       "    <tr>\n",
       "      <th>2</th>\n",
       "      <td>Billie Eilish's concert was held in Seoul, Sou...</td>\n",
       "      <td>They really enjoyed the concert as the audienc...</td>\n",
       "      <td>Billie Eilish's concert was held in Seoul, Sou...</td>\n",
       "      <td>0.840863</td>\n",
       "      <td>0.938945</td>\n",
       "    </tr>\n",
       "    <tr>\n",
       "      <th>3</th>\n",
       "      <td>BTS ARMY you all would be missing the members ...</td>\n",
       "      <td>The boys are going to complete their projects ...</td>\n",
       "      <td>BTS ARMY you all would be missing the members ...</td>\n",
       "      <td>0.709553</td>\n",
       "      <td>0.923807</td>\n",
       "    </tr>\n",
       "    <tr>\n",
       "      <th>4</th>\n",
       "      <td>BTS member Kim Seokjin aka Jin has the capacit...</td>\n",
       "      <td>Some days back, we saw the Sea of Jin concept ...</td>\n",
       "      <td>BTS member Kim Seokjin aka Jin has the capacit...</td>\n",
       "      <td>0.719757</td>\n",
       "      <td>0.909008</td>\n",
       "    </tr>\n",
       "  </tbody>\n",
       "</table>\n",
       "</div>"
      ],
      "text/plain": [
       "                                    Original Content  \\\n",
       "0  After reaching his hotel in the city, RM revea...   \n",
       "1  RM aka Kim Namjoon was the first member to joi...   \n",
       "2  Billie Eilish's concert was held in Seoul, Sou...   \n",
       "3  BTS ARMY you all would be missing the members ...   \n",
       "4  BTS member Kim Seokjin aka Jin has the capacit...   \n",
       "\n",
       "                                         New Content  \\\n",
       "0  As he sat at a roadside open-air restaurant, R...   \n",
       "1  RM aka Kim Namjoon was the first member to joi...   \n",
       "2  They really enjoyed the concert as the audienc...   \n",
       "3  The boys are going to complete their projects ...   \n",
       "4  Some days back, we saw the Sea of Jin concept ...   \n",
       "\n",
       "                                       Removed Lines  Cosine Similarity  \\\n",
       "0  After reaching his hotel in the city, RM revea...           0.796752   \n",
       "1  The group released their debut single album 2 ...           0.790431   \n",
       "2  Billie Eilish's concert was held in Seoul, Sou...           0.840863   \n",
       "3  BTS ARMY you all would be missing the members ...           0.709553   \n",
       "4  BTS member Kim Seokjin aka Jin has the capacit...           0.719757   \n",
       "\n",
       "   NLP Text Similarity  \n",
       "0             0.947731  \n",
       "1             0.922970  \n",
       "2             0.938945  \n",
       "3             0.923807  \n",
       "4             0.909008  "
      ]
     },
     "execution_count": 115,
     "metadata": {},
     "output_type": "execute_result"
    }
   ],
   "source": [
    "df3.head()"
   ]
  },
  {
   "cell_type": "code",
   "execution_count": 116,
   "id": "34465adf",
   "metadata": {},
   "outputs": [
    {
     "data": {
      "text/plain": [
       "0.5577889218703898"
      ]
     },
     "execution_count": 116,
     "metadata": {},
     "output_type": "execute_result"
    }
   ],
   "source": [
    "min(nlptextsimi)"
   ]
  },
  {
   "cell_type": "code",
   "execution_count": 117,
   "id": "08ba5a43",
   "metadata": {},
   "outputs": [
    {
     "data": {
      "text/plain": [
       "0.9906746332886787"
      ]
     },
     "execution_count": 117,
     "metadata": {},
     "output_type": "execute_result"
    }
   ],
   "source": [
    "max(nlptextsimi)"
   ]
  },
  {
   "cell_type": "code",
   "execution_count": 118,
   "id": "fe60a35b",
   "metadata": {},
   "outputs": [
    {
     "data": {
      "text/plain": [
       "0.923961025354796"
      ]
     },
     "execution_count": 118,
     "metadata": {},
     "output_type": "execute_result"
    }
   ],
   "source": [
    "np.mean(nlptextsimi)"
   ]
  },
  {
   "cell_type": "code",
   "execution_count": 119,
   "id": "1c56566a",
   "metadata": {},
   "outputs": [
    {
     "data": {
      "text/plain": [
       "0.9330589202860173"
      ]
     },
     "execution_count": 119,
     "metadata": {},
     "output_type": "execute_result"
    }
   ],
   "source": [
    "np.median(nlptextsimi)"
   ]
  },
  {
   "cell_type": "markdown",
   "id": "533fe757",
   "metadata": {},
   "source": [
    "## 6.5 As there was quite a difference in the median of metrics, I decided to provide Harmonic Mean of both the similaritiy"
   ]
  },
  {
   "cell_type": "code",
   "execution_count": 120,
   "id": "3413c534",
   "metadata": {},
   "outputs": [],
   "source": [
    "def harmonicMean(x, y):\n",
    "    return (2*x*y)/(x+y)"
   ]
  },
  {
   "cell_type": "code",
   "execution_count": 121,
   "id": "4640e299",
   "metadata": {},
   "outputs": [],
   "source": [
    "harmean = df3.apply(lambda x: harmonicMean(x['Cosine Similarity'], x['NLP Text Similarity']), axis=1)"
   ]
  },
  {
   "cell_type": "code",
   "execution_count": 122,
   "id": "0e1afb58",
   "metadata": {},
   "outputs": [],
   "source": [
    "df3['Harmonic Mean'] = harmean"
   ]
  },
  {
   "cell_type": "code",
   "execution_count": 123,
   "id": "f7455439",
   "metadata": {},
   "outputs": [
    {
     "data": {
      "text/html": [
       "<div>\n",
       "<style scoped>\n",
       "    .dataframe tbody tr th:only-of-type {\n",
       "        vertical-align: middle;\n",
       "    }\n",
       "\n",
       "    .dataframe tbody tr th {\n",
       "        vertical-align: top;\n",
       "    }\n",
       "\n",
       "    .dataframe thead th {\n",
       "        text-align: right;\n",
       "    }\n",
       "</style>\n",
       "<table border=\"1\" class=\"dataframe\">\n",
       "  <thead>\n",
       "    <tr style=\"text-align: right;\">\n",
       "      <th></th>\n",
       "      <th>Original Content</th>\n",
       "      <th>New Content</th>\n",
       "      <th>Removed Lines</th>\n",
       "      <th>Cosine Similarity</th>\n",
       "      <th>NLP Text Similarity</th>\n",
       "      <th>Harmonic Mean</th>\n",
       "    </tr>\n",
       "  </thead>\n",
       "  <tbody>\n",
       "    <tr>\n",
       "      <th>0</th>\n",
       "      <td>After reaching his hotel in the city, RM revea...</td>\n",
       "      <td>As he sat at a roadside open-air restaurant, R...</td>\n",
       "      <td>After reaching his hotel in the city, RM revea...</td>\n",
       "      <td>0.796752</td>\n",
       "      <td>0.947731</td>\n",
       "      <td>0.865708</td>\n",
       "    </tr>\n",
       "    <tr>\n",
       "      <th>1</th>\n",
       "      <td>RM aka Kim Namjoon was the first member to joi...</td>\n",
       "      <td>RM aka Kim Namjoon was the first member to joi...</td>\n",
       "      <td>The group released their debut single album 2 ...</td>\n",
       "      <td>0.790431</td>\n",
       "      <td>0.922970</td>\n",
       "      <td>0.851574</td>\n",
       "    </tr>\n",
       "    <tr>\n",
       "      <th>2</th>\n",
       "      <td>Billie Eilish's concert was held in Seoul, Sou...</td>\n",
       "      <td>They really enjoyed the concert as the audienc...</td>\n",
       "      <td>Billie Eilish's concert was held in Seoul, Sou...</td>\n",
       "      <td>0.840863</td>\n",
       "      <td>0.938945</td>\n",
       "      <td>0.887202</td>\n",
       "    </tr>\n",
       "    <tr>\n",
       "      <th>3</th>\n",
       "      <td>BTS ARMY you all would be missing the members ...</td>\n",
       "      <td>The boys are going to complete their projects ...</td>\n",
       "      <td>BTS ARMY you all would be missing the members ...</td>\n",
       "      <td>0.709553</td>\n",
       "      <td>0.923807</td>\n",
       "      <td>0.802628</td>\n",
       "    </tr>\n",
       "    <tr>\n",
       "      <th>4</th>\n",
       "      <td>BTS member Kim Seokjin aka Jin has the capacit...</td>\n",
       "      <td>Some days back, we saw the Sea of Jin concept ...</td>\n",
       "      <td>BTS member Kim Seokjin aka Jin has the capacit...</td>\n",
       "      <td>0.719757</td>\n",
       "      <td>0.909008</td>\n",
       "      <td>0.803388</td>\n",
       "    </tr>\n",
       "  </tbody>\n",
       "</table>\n",
       "</div>"
      ],
      "text/plain": [
       "                                    Original Content  \\\n",
       "0  After reaching his hotel in the city, RM revea...   \n",
       "1  RM aka Kim Namjoon was the first member to joi...   \n",
       "2  Billie Eilish's concert was held in Seoul, Sou...   \n",
       "3  BTS ARMY you all would be missing the members ...   \n",
       "4  BTS member Kim Seokjin aka Jin has the capacit...   \n",
       "\n",
       "                                         New Content  \\\n",
       "0  As he sat at a roadside open-air restaurant, R...   \n",
       "1  RM aka Kim Namjoon was the first member to joi...   \n",
       "2  They really enjoyed the concert as the audienc...   \n",
       "3  The boys are going to complete their projects ...   \n",
       "4  Some days back, we saw the Sea of Jin concept ...   \n",
       "\n",
       "                                       Removed Lines  Cosine Similarity  \\\n",
       "0  After reaching his hotel in the city, RM revea...           0.796752   \n",
       "1  The group released their debut single album 2 ...           0.790431   \n",
       "2  Billie Eilish's concert was held in Seoul, Sou...           0.840863   \n",
       "3  BTS ARMY you all would be missing the members ...           0.709553   \n",
       "4  BTS member Kim Seokjin aka Jin has the capacit...           0.719757   \n",
       "\n",
       "   NLP Text Similarity  Harmonic Mean  \n",
       "0             0.947731       0.865708  \n",
       "1             0.922970       0.851574  \n",
       "2             0.938945       0.887202  \n",
       "3             0.923807       0.802628  \n",
       "4             0.909008       0.803388  "
      ]
     },
     "execution_count": 123,
     "metadata": {},
     "output_type": "execute_result"
    }
   ],
   "source": [
    "df3.head()"
   ]
  },
  {
   "cell_type": "markdown",
   "id": "a5656352",
   "metadata": {},
   "source": [
    "# 7. Storing The Result In a Seperate Dataframe"
   ]
  },
  {
   "cell_type": "code",
   "execution_count": 124,
   "id": "0ba8d502",
   "metadata": {},
   "outputs": [],
   "source": [
    "df3.to_csv('./Final Result.csv')"
   ]
  },
  {
   "cell_type": "code",
   "execution_count": 125,
   "id": "0a1adb3f",
   "metadata": {},
   "outputs": [
    {
     "data": {
      "text/plain": [
       "0.49884301558564753"
      ]
     },
     "execution_count": 125,
     "metadata": {},
     "output_type": "execute_result"
    }
   ],
   "source": [
    "min(harmean)"
   ]
  },
  {
   "cell_type": "code",
   "execution_count": 126,
   "id": "e49771a9",
   "metadata": {},
   "outputs": [
    {
     "data": {
      "text/plain": [
       "0.9623399165870538"
      ]
     },
     "execution_count": 126,
     "metadata": {},
     "output_type": "execute_result"
    }
   ],
   "source": [
    "max(harmean)"
   ]
  },
  {
   "cell_type": "code",
   "execution_count": 127,
   "id": "a7f1335e",
   "metadata": {},
   "outputs": [
    {
     "data": {
      "text/plain": [
       "0.8266253043667523"
      ]
     },
     "execution_count": 127,
     "metadata": {},
     "output_type": "execute_result"
    }
   ],
   "source": [
    "np.mean(harmean)"
   ]
  },
  {
   "cell_type": "code",
   "execution_count": 128,
   "id": "f04f6fc3",
   "metadata": {},
   "outputs": [
    {
     "data": {
      "text/plain": [
       "0.8415012837304162"
      ]
     },
     "execution_count": 128,
     "metadata": {},
     "output_type": "execute_result"
    }
   ],
   "source": [
    "np.median(harmean)"
   ]
  }
 ],
 "metadata": {
  "kernelspec": {
   "display_name": "Python 3 (ipykernel)",
   "language": "python",
   "name": "python3"
  },
  "language_info": {
   "codemirror_mode": {
    "name": "ipython",
    "version": 3
   },
   "file_extension": ".py",
   "mimetype": "text/x-python",
   "name": "python",
   "nbconvert_exporter": "python",
   "pygments_lexer": "ipython3",
   "version": "3.9.12"
  }
 },
 "nbformat": 4,
 "nbformat_minor": 5
}
